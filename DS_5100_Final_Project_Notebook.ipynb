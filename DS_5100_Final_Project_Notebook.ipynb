{
  "nbformat": 4,
  "nbformat_minor": 0,
  "metadata": {
    "colab": {
      "name": "DS 5100 Final Project",
      "provenance": [],
      "collapsed_sections": []
    },
    "kernelspec": {
      "name": "python3",
      "display_name": "Python 3"
    },
    "language_info": {
      "name": "python"
    }
  },
  "cells": [
    {
      "cell_type": "markdown",
      "metadata": {
        "id": "1Ey4iL6bgMv5"
      },
      "source": [
        "# DS 5100 Project Notebook \n",
        "Connie Cui (qqv3uu)"
      ]
    },
    {
      "cell_type": "markdown",
      "metadata": {
        "id": "U4dp4rRD_T8J"
      },
      "source": [
        "We first started out by importing all necessary packages needed to conduct our exploratory data analysis, model selection with machine learning, and unit testing, as well as our dataset itself."
      ]
    },
    {
      "cell_type": "code",
      "metadata": {
        "id": "piTuYbcQgJ3F",
        "colab": {
          "base_uri": "https://localhost:8080/",
          "height": 261
        },
        "outputId": "1417ca15-70c7-443b-b248-b450281b5475"
      },
      "source": [
        "# load packages and dataset\n",
        "\n",
        "import pandas as pd\n",
        "import numpy as np\n",
        "import matplotlib.pyplot as plt\n",
        "from matplotlib import pyplot\n",
        "import imblearn\n",
        "from imblearn.over_sampling import RandomOverSampler\n",
        "import re\n",
        "import seaborn as sns\n",
        "\n",
        "#import different models\n",
        "from sklearn.linear_model import LogisticRegression\n",
        "from sklearn.tree import DecisionTreeClassifier \n",
        "from sklearn.ensemble import RandomForestClassifier\n",
        "\n",
        "#import other miscellaneous packages\n",
        "from sklearn import metrics\n",
        "from sklearn.model_selection import train_test_split\n",
        "from sklearn.metrics import recall_score\n",
        "from sklearn.metrics import confusion_matrix \n",
        "from sklearn.metrics import accuracy_score \n",
        "from sklearn.metrics import roc_auc_score\n",
        "from sklearn.metrics import precision_recall_curve\n",
        "from sklearn.metrics import average_precision_score\n",
        "from sklearn.model_selection import GroupShuffleSplit\n",
        "from sklearn.metrics import roc_curve\n",
        "\n",
        "from google.colab import drive\n",
        "drive.mount('/content/drive')\n",
        "df = pd.read_csv('/content/drive/MyDrive/covid_cleaned.csv')\n",
        "df.head()\n",
        "\n",
        "# df = pd.read_csv('/covid_cleaned.csv')"
      ],
      "execution_count": 1,
      "outputs": [
        {
          "output_type": "stream",
          "name": "stdout",
          "text": [
            "Mounted at /content/drive\n"
          ]
        },
        {
          "output_type": "execute_result",
          "data": {
            "text/html": [
              "<div>\n",
              "<style scoped>\n",
              "    .dataframe tbody tr th:only-of-type {\n",
              "        vertical-align: middle;\n",
              "    }\n",
              "\n",
              "    .dataframe tbody tr th {\n",
              "        vertical-align: top;\n",
              "    }\n",
              "\n",
              "    .dataframe thead th {\n",
              "        text-align: right;\n",
              "    }\n",
              "</style>\n",
              "<table border=\"1\" class=\"dataframe\">\n",
              "  <thead>\n",
              "    <tr style=\"text-align: right;\">\n",
              "      <th></th>\n",
              "      <th>Unnamed: 0</th>\n",
              "      <th>sex</th>\n",
              "      <th>patient_type</th>\n",
              "      <th>pneumonia</th>\n",
              "      <th>age</th>\n",
              "      <th>diabetes</th>\n",
              "      <th>copd</th>\n",
              "      <th>asthma</th>\n",
              "      <th>inmsupr</th>\n",
              "      <th>hypertension</th>\n",
              "      <th>other_disease</th>\n",
              "      <th>cardiovascular</th>\n",
              "      <th>obesity</th>\n",
              "      <th>renal_chronic</th>\n",
              "      <th>tobacco</th>\n",
              "      <th>contact_other_covid</th>\n",
              "      <th>covid_res</th>\n",
              "      <th>died</th>\n",
              "    </tr>\n",
              "  </thead>\n",
              "  <tbody>\n",
              "    <tr>\n",
              "      <th>0</th>\n",
              "      <td>0</td>\n",
              "      <td>0.0</td>\n",
              "      <td>1.0</td>\n",
              "      <td>0.0</td>\n",
              "      <td>27</td>\n",
              "      <td>0.0</td>\n",
              "      <td>0.0</td>\n",
              "      <td>0.0</td>\n",
              "      <td>0.0</td>\n",
              "      <td>0.0</td>\n",
              "      <td>0.0</td>\n",
              "      <td>0.0</td>\n",
              "      <td>0.0</td>\n",
              "      <td>0.0</td>\n",
              "      <td>0.0</td>\n",
              "      <td>0.0</td>\n",
              "      <td>1.0</td>\n",
              "      <td>0.0</td>\n",
              "    </tr>\n",
              "    <tr>\n",
              "      <th>1</th>\n",
              "      <td>1</td>\n",
              "      <td>1.0</td>\n",
              "      <td>1.0</td>\n",
              "      <td>0.0</td>\n",
              "      <td>56</td>\n",
              "      <td>0.0</td>\n",
              "      <td>0.0</td>\n",
              "      <td>0.0</td>\n",
              "      <td>0.0</td>\n",
              "      <td>1.0</td>\n",
              "      <td>0.0</td>\n",
              "      <td>0.0</td>\n",
              "      <td>0.0</td>\n",
              "      <td>1.0</td>\n",
              "      <td>1.0</td>\n",
              "      <td>1.0</td>\n",
              "      <td>1.0</td>\n",
              "      <td>0.0</td>\n",
              "    </tr>\n",
              "    <tr>\n",
              "      <th>2</th>\n",
              "      <td>2</td>\n",
              "      <td>1.0</td>\n",
              "      <td>1.0</td>\n",
              "      <td>0.0</td>\n",
              "      <td>34</td>\n",
              "      <td>0.0</td>\n",
              "      <td>0.0</td>\n",
              "      <td>0.0</td>\n",
              "      <td>0.0</td>\n",
              "      <td>0.0</td>\n",
              "      <td>0.0</td>\n",
              "      <td>0.0</td>\n",
              "      <td>0.0</td>\n",
              "      <td>0.0</td>\n",
              "      <td>0.0</td>\n",
              "      <td>1.0</td>\n",
              "      <td>1.0</td>\n",
              "      <td>0.0</td>\n",
              "    </tr>\n",
              "    <tr>\n",
              "      <th>3</th>\n",
              "      <td>3</td>\n",
              "      <td>1.0</td>\n",
              "      <td>1.0</td>\n",
              "      <td>0.0</td>\n",
              "      <td>34</td>\n",
              "      <td>0.0</td>\n",
              "      <td>0.0</td>\n",
              "      <td>0.0</td>\n",
              "      <td>0.0</td>\n",
              "      <td>0.0</td>\n",
              "      <td>0.0</td>\n",
              "      <td>0.0</td>\n",
              "      <td>0.0</td>\n",
              "      <td>0.0</td>\n",
              "      <td>1.0</td>\n",
              "      <td>0.0</td>\n",
              "      <td>1.0</td>\n",
              "      <td>0.0</td>\n",
              "    </tr>\n",
              "    <tr>\n",
              "      <th>4</th>\n",
              "      <td>4</td>\n",
              "      <td>1.0</td>\n",
              "      <td>1.0</td>\n",
              "      <td>0.0</td>\n",
              "      <td>49</td>\n",
              "      <td>1.0</td>\n",
              "      <td>0.0</td>\n",
              "      <td>0.0</td>\n",
              "      <td>0.0</td>\n",
              "      <td>0.0</td>\n",
              "      <td>0.0</td>\n",
              "      <td>0.0</td>\n",
              "      <td>0.0</td>\n",
              "      <td>0.0</td>\n",
              "      <td>0.0</td>\n",
              "      <td>1.0</td>\n",
              "      <td>1.0</td>\n",
              "      <td>0.0</td>\n",
              "    </tr>\n",
              "  </tbody>\n",
              "</table>\n",
              "</div>"
            ],
            "text/plain": [
              "   Unnamed: 0  sex  patient_type  ...  contact_other_covid  covid_res  died\n",
              "0           0  0.0           1.0  ...                  0.0        1.0   0.0\n",
              "1           1  1.0           1.0  ...                  1.0        1.0   0.0\n",
              "2           2  1.0           1.0  ...                  1.0        1.0   0.0\n",
              "3           3  1.0           1.0  ...                  0.0        1.0   0.0\n",
              "4           4  1.0           1.0  ...                  1.0        1.0   0.0\n",
              "\n",
              "[5 rows x 18 columns]"
            ]
          },
          "metadata": {},
          "execution_count": 1
        }
      ]
    },
    {
      "cell_type": "markdown",
      "metadata": {
        "id": "Q-UwFDzp_n4g"
      },
      "source": [
        "## Exploratory Data Analysis and Visualizations\n",
        "In this section, we analyze our data and explore the relationships between our different variables. We also explore things such as the shape of our data, our variable data types, whether or not we have missing values, and summary statistics of our variables.\n",
        "\n"
      ]
    },
    {
      "cell_type": "code",
      "metadata": {
        "id": "mW3yP3qyD92C",
        "colab": {
          "base_uri": "https://localhost:8080/"
        },
        "outputId": "e1353a71-6d4d-4be9-8f21-105710dfc5a4"
      },
      "source": [
        "df.shape"
      ],
      "execution_count": null,
      "outputs": [
        {
          "output_type": "execute_result",
          "data": {
            "text/plain": [
              "(346017, 18)"
            ]
          },
          "metadata": {},
          "execution_count": 2
        }
      ]
    },
    {
      "cell_type": "code",
      "metadata": {
        "id": "Mpm0RJbaECNh",
        "colab": {
          "base_uri": "https://localhost:8080/"
        },
        "outputId": "c6495917-04c3-49c3-c27a-4f539324f690"
      },
      "source": [
        "#Finding data types\n",
        "dataType = df.dtypes\n",
        "print(dataType)"
      ],
      "execution_count": null,
      "outputs": [
        {
          "output_type": "stream",
          "name": "stdout",
          "text": [
            "Unnamed: 0               int64\n",
            "sex                    float64\n",
            "patient_type           float64\n",
            "pneumonia              float64\n",
            "age                      int64\n",
            "diabetes               float64\n",
            "copd                   float64\n",
            "asthma                 float64\n",
            "inmsupr                float64\n",
            "hypertension           float64\n",
            "other_disease          float64\n",
            "cardiovascular         float64\n",
            "obesity                float64\n",
            "renal_chronic          float64\n",
            "tobacco                float64\n",
            "contact_other_covid    float64\n",
            "covid_res              float64\n",
            "died                   float64\n",
            "dtype: object\n"
          ]
        }
      ]
    },
    {
      "cell_type": "code",
      "metadata": {
        "id": "kVORt_V8ECIv",
        "colab": {
          "base_uri": "https://localhost:8080/"
        },
        "outputId": "4840c26c-4522-42fe-ed49-2d9cc85cd7d3"
      },
      "source": [
        " # Finding out number of null values in each variable\n",
        "df.isnull().sum()\n",
        "#There is no null or missing values in any variable."
      ],
      "execution_count": null,
      "outputs": [
        {
          "output_type": "execute_result",
          "data": {
            "text/plain": [
              "Unnamed: 0             0\n",
              "sex                    0\n",
              "patient_type           0\n",
              "pneumonia              0\n",
              "age                    0\n",
              "diabetes               0\n",
              "copd                   0\n",
              "asthma                 0\n",
              "inmsupr                0\n",
              "hypertension           0\n",
              "other_disease          0\n",
              "cardiovascular         0\n",
              "obesity                0\n",
              "renal_chronic          0\n",
              "tobacco                0\n",
              "contact_other_covid    0\n",
              "covid_res              0\n",
              "died                   0\n",
              "dtype: int64"
            ]
          },
          "metadata": {},
          "execution_count": 4
        }
      ]
    },
    {
      "cell_type": "code",
      "metadata": {
        "id": "4zAlkodhEIk6",
        "colab": {
          "base_uri": "https://localhost:8080/",
          "height": 320
        },
        "outputId": "81e12ec2-1c31-4bd4-a14b-71acb9a68fc6"
      },
      "source": [
        "#Summmary Statistics\n",
        "#df[[\"Estimate(IMF)\", \"Estimate(UN)\", \"Estimate(World Bank)\"]].describe()\n",
        "\n",
        "\n",
        "df.describe()\n"
      ],
      "execution_count": null,
      "outputs": [
        {
          "output_type": "execute_result",
          "data": {
            "text/html": [
              "<div>\n",
              "<style scoped>\n",
              "    .dataframe tbody tr th:only-of-type {\n",
              "        vertical-align: middle;\n",
              "    }\n",
              "\n",
              "    .dataframe tbody tr th {\n",
              "        vertical-align: top;\n",
              "    }\n",
              "\n",
              "    .dataframe thead th {\n",
              "        text-align: right;\n",
              "    }\n",
              "</style>\n",
              "<table border=\"1\" class=\"dataframe\">\n",
              "  <thead>\n",
              "    <tr style=\"text-align: right;\">\n",
              "      <th></th>\n",
              "      <th>Unnamed: 0</th>\n",
              "      <th>sex</th>\n",
              "      <th>patient_type</th>\n",
              "      <th>pneumonia</th>\n",
              "      <th>age</th>\n",
              "      <th>diabetes</th>\n",
              "      <th>copd</th>\n",
              "      <th>asthma</th>\n",
              "      <th>inmsupr</th>\n",
              "      <th>hypertension</th>\n",
              "      <th>other_disease</th>\n",
              "      <th>cardiovascular</th>\n",
              "      <th>obesity</th>\n",
              "      <th>renal_chronic</th>\n",
              "      <th>tobacco</th>\n",
              "      <th>contact_other_covid</th>\n",
              "      <th>covid_res</th>\n",
              "      <th>died</th>\n",
              "    </tr>\n",
              "  </thead>\n",
              "  <tbody>\n",
              "    <tr>\n",
              "      <th>count</th>\n",
              "      <td>346017.000000</td>\n",
              "      <td>346017.000000</td>\n",
              "      <td>346017.000000</td>\n",
              "      <td>346017.000000</td>\n",
              "      <td>346017.000000</td>\n",
              "      <td>346017.000000</td>\n",
              "      <td>346017.000000</td>\n",
              "      <td>346017.000000</td>\n",
              "      <td>346017.000000</td>\n",
              "      <td>346017.000000</td>\n",
              "      <td>346017.000000</td>\n",
              "      <td>346017.000000</td>\n",
              "      <td>346017.000000</td>\n",
              "      <td>346017.000000</td>\n",
              "      <td>346017.000000</td>\n",
              "      <td>346017.000000</td>\n",
              "      <td>346017.000000</td>\n",
              "      <td>346017.000000</td>\n",
              "    </tr>\n",
              "    <tr>\n",
              "      <th>mean</th>\n",
              "      <td>173008.000000</td>\n",
              "      <td>0.492510</td>\n",
              "      <td>0.847664</td>\n",
              "      <td>0.129306</td>\n",
              "      <td>41.465844</td>\n",
              "      <td>0.107353</td>\n",
              "      <td>0.012754</td>\n",
              "      <td>0.030204</td>\n",
              "      <td>0.012953</td>\n",
              "      <td>0.139135</td>\n",
              "      <td>0.016095</td>\n",
              "      <td>0.020002</td>\n",
              "      <td>0.158692</td>\n",
              "      <td>0.014225</td>\n",
              "      <td>0.087192</td>\n",
              "      <td>0.569238</td>\n",
              "      <td>0.403541</td>\n",
              "      <td>0.038504</td>\n",
              "    </tr>\n",
              "    <tr>\n",
              "      <th>std</th>\n",
              "      <td>99886.648385</td>\n",
              "      <td>0.499945</td>\n",
              "      <td>0.359347</td>\n",
              "      <td>0.335539</td>\n",
              "      <td>16.410673</td>\n",
              "      <td>0.309562</td>\n",
              "      <td>0.112210</td>\n",
              "      <td>0.171148</td>\n",
              "      <td>0.113072</td>\n",
              "      <td>0.346088</td>\n",
              "      <td>0.125840</td>\n",
              "      <td>0.140007</td>\n",
              "      <td>0.365389</td>\n",
              "      <td>0.118416</td>\n",
              "      <td>0.282117</td>\n",
              "      <td>0.495184</td>\n",
              "      <td>0.490608</td>\n",
              "      <td>0.192410</td>\n",
              "    </tr>\n",
              "    <tr>\n",
              "      <th>min</th>\n",
              "      <td>0.000000</td>\n",
              "      <td>0.000000</td>\n",
              "      <td>0.000000</td>\n",
              "      <td>0.000000</td>\n",
              "      <td>0.000000</td>\n",
              "      <td>0.000000</td>\n",
              "      <td>0.000000</td>\n",
              "      <td>0.000000</td>\n",
              "      <td>0.000000</td>\n",
              "      <td>0.000000</td>\n",
              "      <td>0.000000</td>\n",
              "      <td>0.000000</td>\n",
              "      <td>0.000000</td>\n",
              "      <td>0.000000</td>\n",
              "      <td>0.000000</td>\n",
              "      <td>0.000000</td>\n",
              "      <td>0.000000</td>\n",
              "      <td>0.000000</td>\n",
              "    </tr>\n",
              "    <tr>\n",
              "      <th>25%</th>\n",
              "      <td>86504.000000</td>\n",
              "      <td>0.000000</td>\n",
              "      <td>1.000000</td>\n",
              "      <td>0.000000</td>\n",
              "      <td>30.000000</td>\n",
              "      <td>0.000000</td>\n",
              "      <td>0.000000</td>\n",
              "      <td>0.000000</td>\n",
              "      <td>0.000000</td>\n",
              "      <td>0.000000</td>\n",
              "      <td>0.000000</td>\n",
              "      <td>0.000000</td>\n",
              "      <td>0.000000</td>\n",
              "      <td>0.000000</td>\n",
              "      <td>0.000000</td>\n",
              "      <td>0.000000</td>\n",
              "      <td>0.000000</td>\n",
              "      <td>0.000000</td>\n",
              "    </tr>\n",
              "    <tr>\n",
              "      <th>50%</th>\n",
              "      <td>173008.000000</td>\n",
              "      <td>0.000000</td>\n",
              "      <td>1.000000</td>\n",
              "      <td>0.000000</td>\n",
              "      <td>40.000000</td>\n",
              "      <td>0.000000</td>\n",
              "      <td>0.000000</td>\n",
              "      <td>0.000000</td>\n",
              "      <td>0.000000</td>\n",
              "      <td>0.000000</td>\n",
              "      <td>0.000000</td>\n",
              "      <td>0.000000</td>\n",
              "      <td>0.000000</td>\n",
              "      <td>0.000000</td>\n",
              "      <td>0.000000</td>\n",
              "      <td>1.000000</td>\n",
              "      <td>0.000000</td>\n",
              "      <td>0.000000</td>\n",
              "    </tr>\n",
              "    <tr>\n",
              "      <th>75%</th>\n",
              "      <td>259512.000000</td>\n",
              "      <td>1.000000</td>\n",
              "      <td>1.000000</td>\n",
              "      <td>0.000000</td>\n",
              "      <td>52.000000</td>\n",
              "      <td>0.000000</td>\n",
              "      <td>0.000000</td>\n",
              "      <td>0.000000</td>\n",
              "      <td>0.000000</td>\n",
              "      <td>0.000000</td>\n",
              "      <td>0.000000</td>\n",
              "      <td>0.000000</td>\n",
              "      <td>0.000000</td>\n",
              "      <td>0.000000</td>\n",
              "      <td>0.000000</td>\n",
              "      <td>1.000000</td>\n",
              "      <td>1.000000</td>\n",
              "      <td>0.000000</td>\n",
              "    </tr>\n",
              "    <tr>\n",
              "      <th>max</th>\n",
              "      <td>346016.000000</td>\n",
              "      <td>1.000000</td>\n",
              "      <td>1.000000</td>\n",
              "      <td>1.000000</td>\n",
              "      <td>120.000000</td>\n",
              "      <td>1.000000</td>\n",
              "      <td>1.000000</td>\n",
              "      <td>1.000000</td>\n",
              "      <td>1.000000</td>\n",
              "      <td>1.000000</td>\n",
              "      <td>1.000000</td>\n",
              "      <td>1.000000</td>\n",
              "      <td>1.000000</td>\n",
              "      <td>1.000000</td>\n",
              "      <td>1.000000</td>\n",
              "      <td>1.000000</td>\n",
              "      <td>1.000000</td>\n",
              "      <td>1.000000</td>\n",
              "    </tr>\n",
              "  </tbody>\n",
              "</table>\n",
              "</div>"
            ],
            "text/plain": [
              "          Unnamed: 0            sex  ...      covid_res           died\n",
              "count  346017.000000  346017.000000  ...  346017.000000  346017.000000\n",
              "mean   173008.000000       0.492510  ...       0.403541       0.038504\n",
              "std     99886.648385       0.499945  ...       0.490608       0.192410\n",
              "min         0.000000       0.000000  ...       0.000000       0.000000\n",
              "25%     86504.000000       0.000000  ...       0.000000       0.000000\n",
              "50%    173008.000000       0.000000  ...       0.000000       0.000000\n",
              "75%    259512.000000       1.000000  ...       1.000000       0.000000\n",
              "max    346016.000000       1.000000  ...       1.000000       1.000000\n",
              "\n",
              "[8 rows x 18 columns]"
            ]
          },
          "metadata": {},
          "execution_count": 5
        }
      ]
    },
    {
      "cell_type": "markdown",
      "metadata": {
        "id": "T0nkIn-tmCUu"
      },
      "source": [
        "See the count distribution of our response variable. It appears that there is a great imbalance, which we will need to make note of for future analysis."
      ]
    },
    {
      "cell_type": "code",
      "metadata": {
        "id": "Cb9uNjjwAOnn",
        "colab": {
          "base_uri": "https://localhost:8080/"
        },
        "outputId": "260980aa-efe3-4ff0-dd00-2b14da58a2f3"
      },
      "source": [
        "# see many died vs didn't die\n",
        "count_classes = pd.value_counts(df['died'])\n",
        "count_classes"
      ],
      "execution_count": null,
      "outputs": [
        {
          "output_type": "execute_result",
          "data": {
            "text/plain": [
              "0.0    332694\n",
              "1.0     13323\n",
              "Name: died, dtype: int64"
            ]
          },
          "metadata": {},
          "execution_count": 6
        }
      ]
    },
    {
      "cell_type": "code",
      "metadata": {
        "colab": {
          "base_uri": "https://localhost:8080/",
          "height": 313
        },
        "id": "8GaD5B-qPBH8",
        "outputId": "181b6165-bc38-448a-eb7f-990c83419e7d"
      },
      "source": [
        "count_classes = pd.value_counts(df['died'])\n",
        "count_classes.plot(kind = 'bar', rot=0)\n",
        "plt.title(\"Distribution of Survival vs Death\")\n",
        "plt.xlabel(\"Patient Survival (0) vs Death (1)\")\n",
        "plt.ylabel(\"Number of Patients\")"
      ],
      "execution_count": null,
      "outputs": [
        {
          "output_type": "execute_result",
          "data": {
            "text/plain": [
              "Text(0, 0.5, 'Number of Patients')"
            ]
          },
          "metadata": {},
          "execution_count": 9
        },
        {
          "output_type": "display_data",
          "data": {
            "image/png": "[encoded data removed]",
            "text/plain": [
              "<Figure size 432x288 with 1 Axes>"
            ]
          },
          "metadata": {
            "needs_background": "light"
          }
        }
      ]
    },
    {
      "cell_type": "markdown",
      "metadata": {
        "id": "2MHlIebLmNpy"
      },
      "source": [
        "Distribution of the Age variable for patients"
      ]
    },
    {
      "cell_type": "code",
      "metadata": {
        "id": "zGfIa-RIJb9F",
        "colab": {
          "base_uri": "https://localhost:8080/",
          "height": 513
        },
        "outputId": "59b921c9-3e9f-4507-8a3c-499f37e25d9f"
      },
      "source": [
        "# Histogram\n",
        "fig = plt.figure(figsize = (10,8))\n",
        "\n",
        "ax1 = fig.add_subplot(1,1,1)\n",
        "\n",
        "ax1.hist(df['age'],bins = 30, rwidth = 0.85)\n",
        "ax1.set_xlabel('age')\n",
        "ax1.set_ylabel('Number of covid pations')\n",
        "ax1.set_title(\"Distribution of age\");"
      ],
      "execution_count": null,
      "outputs": [
        {
          "output_type": "display_data",
          "data": {
            "image/png": "[encoded data removed]",
            "text/plain": [
              "<Figure size 720x576 with 1 Axes>"
            ]
          },
          "metadata": {
            "needs_background": "light"
          }
        }
      ]
    },
    {
      "cell_type": "code",
      "metadata": {
        "id": "rwk3ZAxpJb5N"
      },
      "source": [
        "#df['age_bins']=pd.cut(df.age, 25)\n",
        "#df[['died','age','age_bins']].head(100)\n",
        "\n",
        "bins = [0,5,10,15,20,25,30,35,40,45,50,55,60,65,70,75,80,85,90,95,100,105,110,115,120]\n",
        "labels = [5,10,15,20,25,30,35,40,45,50,55,60,65,70,75,80,85,90,95,100,105,110,115,120]\n",
        "df['age_bins1']=pd.cut(df.age,bins=bins,labels=labels)"
      ],
      "execution_count": null,
      "outputs": []
    },
    {
      "cell_type": "code",
      "metadata": {
        "id": "HUHOqSvgJb02",
        "colab": {
          "base_uri": "https://localhost:8080/",
          "height": 237
        },
        "outputId": "76484163-43e7-4025-e738-cb29b0912d80"
      },
      "source": [
        "table=pd.crosstab(df.age_bins1,df.died)\n",
        "table.head()"
      ],
      "execution_count": null,
      "outputs": [
        {
          "output_type": "execute_result",
          "data": {
            "text/html": [
              "<div>\n",
              "<style scoped>\n",
              "    .dataframe tbody tr th:only-of-type {\n",
              "        vertical-align: middle;\n",
              "    }\n",
              "\n",
              "    .dataframe tbody tr th {\n",
              "        vertical-align: top;\n",
              "    }\n",
              "\n",
              "    .dataframe thead th {\n",
              "        text-align: right;\n",
              "    }\n",
              "</style>\n",
              "<table border=\"1\" class=\"dataframe\">\n",
              "  <thead>\n",
              "    <tr style=\"text-align: right;\">\n",
              "      <th>died</th>\n",
              "      <th>0.0</th>\n",
              "      <th>1.0</th>\n",
              "    </tr>\n",
              "    <tr>\n",
              "      <th>age_bins1</th>\n",
              "      <th></th>\n",
              "      <th></th>\n",
              "    </tr>\n",
              "  </thead>\n",
              "  <tbody>\n",
              "    <tr>\n",
              "      <th>5</th>\n",
              "      <td>3499</td>\n",
              "      <td>63</td>\n",
              "    </tr>\n",
              "    <tr>\n",
              "      <th>10</th>\n",
              "      <td>3808</td>\n",
              "      <td>13</td>\n",
              "    </tr>\n",
              "    <tr>\n",
              "      <th>15</th>\n",
              "      <td>4877</td>\n",
              "      <td>22</td>\n",
              "    </tr>\n",
              "    <tr>\n",
              "      <th>20</th>\n",
              "      <td>10607</td>\n",
              "      <td>41</td>\n",
              "    </tr>\n",
              "    <tr>\n",
              "      <th>25</th>\n",
              "      <td>25213</td>\n",
              "      <td>105</td>\n",
              "    </tr>\n",
              "  </tbody>\n",
              "</table>\n",
              "</div>"
            ],
            "text/plain": [
              "died         0.0  1.0\n",
              "age_bins1            \n",
              "5           3499   63\n",
              "10          3808   13\n",
              "15          4877   22\n",
              "20         10607   41\n",
              "25         25213  105"
            ]
          },
          "metadata": {},
          "execution_count": 11
        }
      ]
    },
    {
      "cell_type": "code",
      "metadata": {
        "id": "_Ys-YvQpEVNA",
        "colab": {
          "base_uri": "https://localhost:8080/",
          "height": 321
        },
        "outputId": "dff3a5c8-a94b-440b-cde5-63062cddef57"
      },
      "source": [
        "table=pd.crosstab(df.age_bins1,df.died)\n",
        "table.div(table.sum(1).astype(float), axis=0).plot(kind='bar', stacked=True)\n",
        "plt.title('Stacked Bar Chart of Survival status vs age')\n",
        "plt.xlabel('Survived or not')\n",
        "plt.ylabel('Proportion of Covid Patients')"
      ],
      "execution_count": null,
      "outputs": [
        {
          "output_type": "execute_result",
          "data": {
            "text/plain": [
              "Text(0, 0.5, 'Proportion of Covid Patients')"
            ]
          },
          "metadata": {},
          "execution_count": 12
        },
        {
          "output_type": "display_data",
          "data": {
            "image/png": "[encoded data removed]",
            "text/plain": [
              "<Figure size 432x288 with 1 Axes>"
            ]
          },
          "metadata": {
            "needs_background": "light"
          }
        }
      ]
    },
    {
      "cell_type": "code",
      "metadata": {
        "id": "AER4FeEVEVGx",
        "colab": {
          "base_uri": "https://localhost:8080/",
          "height": 319
        },
        "outputId": "117d10b5-7506-4bbf-a39c-ed1d0f1ba4c2"
      },
      "source": [
        "table=pd.crosstab(df.died,df.sex)\n",
        "table.div(table.sum(1).astype(float), axis=0).plot(kind='bar', stacked=True)\n",
        "plt.title('Stacked Bar Chart of Survival status vs Sex')\n",
        "plt.xlabel('Survived or not')\n",
        "plt.ylabel('Proportion of Covid Patients')"
      ],
      "execution_count": null,
      "outputs": [
        {
          "output_type": "execute_result",
          "data": {
            "text/plain": [
              "Text(0, 0.5, 'Proportion of Covid Patients')"
            ]
          },
          "metadata": {},
          "execution_count": 13
        },
        {
          "output_type": "display_data",
          "data": {
            "image/png": "[encoded data removed]",
            "text/plain": [
              "<Figure size 432x288 with 1 Axes>"
            ]
          },
          "metadata": {
            "needs_background": "light"
          }
        }
      ]
    },
    {
      "cell_type": "code",
      "metadata": {
        "id": "voh-4E86EVBR",
        "colab": {
          "base_uri": "https://localhost:8080/",
          "height": 319
        },
        "outputId": "58ffce32-bcda-4e6b-813d-edb1a8ae6d8f"
      },
      "source": [
        "table=pd.crosstab(df.died,df.pneumonia)\n",
        "table.div(table.sum(1).astype(float), axis=0).plot(kind='bar', stacked=True)\n",
        "plt.title('Stacked Bar Chart of Survival status vs Pneumonia')\n",
        "plt.xlabel('deceased or not')\n",
        "plt.ylabel('Proportion of Covid Patients')"
      ],
      "execution_count": null,
      "outputs": [
        {
          "output_type": "execute_result",
          "data": {
            "text/plain": [
              "Text(0, 0.5, 'Proportion of Covid Patients')"
            ]
          },
          "metadata": {},
          "execution_count": 14
        },
        {
          "output_type": "display_data",
          "data": {
            "image/png": "[encoded data removed]",
            "text/plain": [
              "<Figure size 432x288 with 1 Axes>"
            ]
          },
          "metadata": {
            "needs_background": "light"
          }
        }
      ]
    },
    {
      "cell_type": "code",
      "metadata": {
        "id": "Ux8FBKZ1EU8U",
        "colab": {
          "base_uri": "https://localhost:8080/",
          "height": 319
        },
        "outputId": "da168006-bf8f-4ac7-ef1e-5cd525853d1e"
      },
      "source": [
        "table=pd.crosstab(df.died,df.diabetes)\n",
        "table.div(table.sum(1).astype(float), axis=0).plot(kind='bar', stacked=True)\n",
        "plt.title('Stacked Bar Chart of Survival status vs Diabetics')\n",
        "plt.xlabel('deceased or not')\n",
        "plt.ylabel('Proportion of Covid Patients')"
      ],
      "execution_count": null,
      "outputs": [
        {
          "output_type": "execute_result",
          "data": {
            "text/plain": [
              "Text(0, 0.5, 'Proportion of Covid Patients')"
            ]
          },
          "metadata": {},
          "execution_count": 15
        },
        {
          "output_type": "display_data",
          "data": {
            "image/png": "[encoded data removed]",
            "text/plain": [
              "<Figure size 432x288 with 1 Axes>"
            ]
          },
          "metadata": {
            "needs_background": "light"
          }
        }
      ]
    },
    {
      "cell_type": "code",
      "metadata": {
        "id": "5B1tY1uEEjmI",
        "colab": {
          "base_uri": "https://localhost:8080/",
          "height": 319
        },
        "outputId": "667ec86d-7b88-49f0-f3f7-cd017e0bfc0c"
      },
      "source": [
        "table=pd.crosstab(df.died,df.asthma)\n",
        "table.div(table.sum(1).astype(float), axis=0).plot(kind='bar', stacked=True)\n",
        "plt.title('Stacked Bar Chart of Survival status vs Asthma')\n",
        "plt.xlabel('deceased or not')\n",
        "plt.ylabel('Proportion of Covid Patients')"
      ],
      "execution_count": null,
      "outputs": [
        {
          "output_type": "execute_result",
          "data": {
            "text/plain": [
              "Text(0, 0.5, 'Proportion of Covid Patients')"
            ]
          },
          "metadata": {},
          "execution_count": 16
        },
        {
          "output_type": "display_data",
          "data": {
            "image/png": "[encoded data removed]",
            "text/plain": [
              "<Figure size 432x288 with 1 Axes>"
            ]
          },
          "metadata": {
            "needs_background": "light"
          }
        }
      ]
    },
    {
      "cell_type": "code",
      "metadata": {
        "id": "uabfdqIpEjhB",
        "colab": {
          "base_uri": "https://localhost:8080/",
          "height": 319
        },
        "outputId": "62d0935d-c27f-4bf0-e1db-a3d666d5b6e9"
      },
      "source": [
        "table=pd.crosstab(df.died,df.hypertension)\n",
        "table.div(table.sum(1).astype(float), axis=0).plot(kind='bar', stacked=True)\n",
        "plt.title('Stacked Bar Chart of Survival status vs Hypertension')\n",
        "plt.xlabel('deceased or not')\n",
        "plt.ylabel('Proportion of Covid Patients')"
      ],
      "execution_count": null,
      "outputs": [
        {
          "output_type": "execute_result",
          "data": {
            "text/plain": [
              "Text(0, 0.5, 'Proportion of Covid Patients')"
            ]
          },
          "metadata": {},
          "execution_count": 17
        },
        {
          "output_type": "display_data",
          "data": {
            "image/png": "[encoded data removed]",
            "text/plain": [
              "<Figure size 432x288 with 1 Axes>"
            ]
          },
          "metadata": {
            "needs_background": "light"
          }
        }
      ]
    },
    {
      "cell_type": "code",
      "metadata": {
        "id": "AzRQIXhqEm6u",
        "colab": {
          "base_uri": "https://localhost:8080/",
          "height": 319
        },
        "outputId": "aaa42d69-390d-4eb4-d4f5-a37ec410abd7"
      },
      "source": [
        "table=pd.crosstab(df.died,df.cardiovascular)\n",
        "table.div(table.sum(1).astype(float), axis=0).plot(kind='bar', stacked=True)\n",
        "plt.title('Stacked Bar Chart of Survival status vs Cardiovascular')\n",
        "plt.xlabel('deceased or not')\n",
        "plt.ylabel('Proportion of Covid Patients')"
      ],
      "execution_count": null,
      "outputs": [
        {
          "output_type": "execute_result",
          "data": {
            "text/plain": [
              "Text(0, 0.5, 'Proportion of Covid Patients')"
            ]
          },
          "metadata": {},
          "execution_count": 18
        },
        {
          "output_type": "display_data",
          "data": {
            "image/png": "[encoded data removed]",
            "text/plain": [
              "<Figure size 432x288 with 1 Axes>"
            ]
          },
          "metadata": {
            "needs_background": "light"
          }
        }
      ]
    },
    {
      "cell_type": "code",
      "metadata": {
        "id": "tF06AN_iEmzz",
        "colab": {
          "base_uri": "https://localhost:8080/",
          "height": 319
        },
        "outputId": "63d12df7-625a-418a-e0cd-d67396c05319"
      },
      "source": [
        "table=pd.crosstab(df.died,df.obesity)\n",
        "table.div(table.sum(1).astype(float), axis=0).plot(kind='bar', stacked=True)\n",
        "plt.title('Stacked Bar Chart of Survival status vs Obesity')\n",
        "plt.xlabel('deceased or not')\n",
        "plt.ylabel('Proportion of Covid Patients')"
      ],
      "execution_count": null,
      "outputs": [
        {
          "output_type": "execute_result",
          "data": {
            "text/plain": [
              "Text(0, 0.5, 'Proportion of Covid Patients')"
            ]
          },
          "metadata": {},
          "execution_count": 19
        },
        {
          "output_type": "display_data",
          "data": {
            "image/png": "[encoded data removed]",
            "text/plain": [
              "<Figure size 432x288 with 1 Axes>"
            ]
          },
          "metadata": {
            "needs_background": "light"
          }
        }
      ]
    },
    {
      "cell_type": "code",
      "metadata": {
        "id": "a5y4wFuNEU51",
        "colab": {
          "base_uri": "https://localhost:8080/",
          "height": 319
        },
        "outputId": "29bd3a3f-5c9b-44ad-88f9-015648391e35"
      },
      "source": [
        "table=pd.crosstab(df.died,df.renal_chronic)\n",
        "table.div(table.sum(1).astype(float), axis=0).plot(kind='bar', stacked=True)\n",
        "plt.title('Stacked Bar Chart of Survival status vs Renal Chronic')\n",
        "plt.xlabel('deceased or not')\n",
        "plt.ylabel('Proportion of Covid Patients')"
      ],
      "execution_count": null,
      "outputs": [
        {
          "output_type": "execute_result",
          "data": {
            "text/plain": [
              "Text(0, 0.5, 'Proportion of Covid Patients')"
            ]
          },
          "metadata": {},
          "execution_count": 20
        },
        {
          "output_type": "display_data",
          "data": {
            "image/png": "[encoded data removed]",
            "text/plain": [
              "<Figure size 432x288 with 1 Axes>"
            ]
          },
          "metadata": {
            "needs_background": "light"
          }
        }
      ]
    },
    {
      "cell_type": "code",
      "metadata": {
        "id": "JLrfS8zeEtB0",
        "colab": {
          "base_uri": "https://localhost:8080/",
          "height": 319
        },
        "outputId": "565db091-0ca5-401f-99b8-edf28fb1bced"
      },
      "source": [
        "table=pd.crosstab(df.died,df.tobacco)\n",
        "table.div(table.sum(1).astype(float), axis=0).plot(kind='bar', stacked=True)\n",
        "plt.title('Stacked Bar Chart of Survival status vs Tobacco')\n",
        "plt.xlabel('deceased or not')\n",
        "plt.ylabel('Proportion of Covid Patients')"
      ],
      "execution_count": null,
      "outputs": [
        {
          "output_type": "execute_result",
          "data": {
            "text/plain": [
              "Text(0, 0.5, 'Proportion of Covid Patients')"
            ]
          },
          "metadata": {},
          "execution_count": 21
        },
        {
          "output_type": "display_data",
          "data": {
            "image/png": "[encoded data removed]",
            "text/plain": [
              "<Figure size 432x288 with 1 Axes>"
            ]
          },
          "metadata": {
            "needs_background": "light"
          }
        }
      ]
    },
    {
      "cell_type": "code",
      "metadata": {
        "id": "w_4ptY7WEs-n",
        "colab": {
          "base_uri": "https://localhost:8080/",
          "height": 319
        },
        "outputId": "8a5e9b3d-9be4-420d-9515-805866f07974"
      },
      "source": [
        "table=pd.crosstab(df.died,df.other_disease)\n",
        "table.div(table.sum(1).astype(float), axis=0).plot(kind='bar', stacked=True)\n",
        "plt.title('Stacked Bar Chart of Survival status vs Other Disease')\n",
        "plt.xlabel('deceased or not')\n",
        "plt.ylabel('Proportion of Covid Patients')"
      ],
      "execution_count": null,
      "outputs": [
        {
          "output_type": "execute_result",
          "data": {
            "text/plain": [
              "Text(0, 0.5, 'Proportion of Covid Patients')"
            ]
          },
          "metadata": {},
          "execution_count": 22
        },
        {
          "output_type": "display_data",
          "data": {
            "image/png": "[encoded data removed]",
            "text/plain": [
              "<Figure size 432x288 with 1 Axes>"
            ]
          },
          "metadata": {
            "needs_background": "light"
          }
        }
      ]
    },
    {
      "cell_type": "code",
      "metadata": {
        "id": "rALR7D8zEs6l",
        "colab": {
          "base_uri": "https://localhost:8080/",
          "height": 319
        },
        "outputId": "ad3af040-e3d2-4960-f1b8-9d67fd7e0ef3"
      },
      "source": [
        "table=pd.crosstab(df.died,df.patient_type)\n",
        "table.div(table.sum(1).astype(float), axis=0).plot(kind='bar', stacked=True)\n",
        "plt.title('Stacked Bar Chart of Survival status vs patient_type')\n",
        "plt.xlabel('deceased or not')\n",
        "plt.ylabel('Proportion of Covid Patients')"
      ],
      "execution_count": null,
      "outputs": [
        {
          "output_type": "execute_result",
          "data": {
            "text/plain": [
              "Text(0, 0.5, 'Proportion of Covid Patients')"
            ]
          },
          "metadata": {},
          "execution_count": 23
        },
        {
          "output_type": "display_data",
          "data": {
            "image/png": "[encoded data removed]",
            "text/plain": [
              "<Figure size 432x288 with 1 Axes>"
            ]
          },
          "metadata": {
            "needs_background": "light"
          }
        }
      ]
    },
    {
      "cell_type": "code",
      "metadata": {
        "id": "UkRoxix5E0-f",
        "colab": {
          "base_uri": "https://localhost:8080/",
          "height": 321
        },
        "outputId": "2d9090e0-afce-47b3-bb12-ce4c1a912e72"
      },
      "source": [
        "table=pd.crosstab(df.age_bins1,df.diabetes)\n",
        "table.div(table.sum(1).astype(float), axis=0).plot(kind='bar', stacked=True)\n",
        "plt.title('Stacked Bar Chart of age vs diabetes')\n",
        "plt.xlabel('deceased or not')\n",
        "plt.ylabel('Proportion of Covid Patients')"
      ],
      "execution_count": null,
      "outputs": [
        {
          "output_type": "execute_result",
          "data": {
            "text/plain": [
              "Text(0, 0.5, 'Proportion of Covid Patients')"
            ]
          },
          "metadata": {},
          "execution_count": 24
        },
        {
          "output_type": "display_data",
          "data": {
            "image/png": "[encoded data removed]",
            "text/plain": [
              "<Figure size 432x288 with 1 Axes>"
            ]
          },
          "metadata": {
            "needs_background": "light"
          }
        }
      ]
    },
    {
      "cell_type": "code",
      "metadata": {
        "id": "rYzYlegaE06Y",
        "colab": {
          "base_uri": "https://localhost:8080/",
          "height": 321
        },
        "outputId": "22321862-e0d2-4be1-b18e-4bd062eb7022"
      },
      "source": [
        "table=pd.crosstab(df.age_bins1,df.hypertension)\n",
        "table.div(table.sum(1).astype(float), axis=0).plot(kind='bar', stacked=True)\n",
        "plt.title('Stacked Bar Chart of age vs Other hypertension')\n",
        "plt.xlabel('deceased or not')\n",
        "plt.ylabel('Proportion of Covid Patients')"
      ],
      "execution_count": null,
      "outputs": [
        {
          "output_type": "execute_result",
          "data": {
            "text/plain": [
              "Text(0, 0.5, 'Proportion of Covid Patients')"
            ]
          },
          "metadata": {},
          "execution_count": 25
        },
        {
          "output_type": "display_data",
          "data": {
            "image/png": "[encoded data removed]",
            "text/plain": [
              "<Figure size 432x288 with 1 Axes>"
            ]
          },
          "metadata": {
            "needs_background": "light"
          }
        }
      ]
    },
    {
      "cell_type": "code",
      "metadata": {
        "id": "hOOJExJRE7iB",
        "colab": {
          "base_uri": "https://localhost:8080/",
          "height": 321
        },
        "outputId": "60d35bc9-c676-497e-d96e-3549bb84292d"
      },
      "source": [
        "table=pd.crosstab(df.age_bins1,df.pneumonia)\n",
        "table.div(table.sum(1).astype(float), axis=0).plot(kind='bar', stacked=True)\n",
        "plt.title('Stacked Bar Chart of age vs  pneumonia')\n",
        "plt.xlabel('deceased or not')\n",
        "plt.ylabel('Proportion of Covid Patients')"
      ],
      "execution_count": null,
      "outputs": [
        {
          "output_type": "execute_result",
          "data": {
            "text/plain": [
              "Text(0, 0.5, 'Proportion of Covid Patients')"
            ]
          },
          "metadata": {},
          "execution_count": 26
        },
        {
          "output_type": "display_data",
          "data": {
            "image/png": "[encoded data removed]",
            "text/plain": [
              "<Figure size 432x288 with 1 Axes>"
            ]
          },
          "metadata": {
            "needs_background": "light"
          }
        }
      ]
    },
    {
      "cell_type": "code",
      "metadata": {
        "id": "JBw4wjR7E7gD",
        "colab": {
          "base_uri": "https://localhost:8080/",
          "height": 321
        },
        "outputId": "b7026673-fc44-443a-f281-b4f97af985eb"
      },
      "source": [
        "table=pd.crosstab(df.age_bins1,df.obesity)\n",
        "table.div(table.sum(1).astype(float), axis=0).plot(kind='bar', stacked=True)\n",
        "plt.title('Stacked Bar Chart of age vs Obesity')\n",
        "plt.xlabel('deceased or not')\n",
        "plt.ylabel('Proportion of Covid Patients')"
      ],
      "execution_count": null,
      "outputs": [
        {
          "output_type": "execute_result",
          "data": {
            "text/plain": [
              "Text(0, 0.5, 'Proportion of Covid Patients')"
            ]
          },
          "metadata": {},
          "execution_count": 27
        },
        {
          "output_type": "display_data",
          "data": {
            "image/png": "[encoded data removed]",
            "text/plain": [
              "<Figure size 432x288 with 1 Axes>"
            ]
          },
          "metadata": {
            "needs_background": "light"
          }
        }
      ]
    },
    {
      "cell_type": "code",
      "metadata": {
        "id": "yEjE5x_5E7dP",
        "colab": {
          "base_uri": "https://localhost:8080/",
          "height": 321
        },
        "outputId": "d428d7bb-7067-40d7-e4a5-01cda4cdc88c"
      },
      "source": [
        "table=pd.crosstab(df.age_bins1,df.sex)\n",
        "table.div(table.sum(1).astype(float), axis=0).plot(kind='bar', stacked=True)\n",
        "plt.title('Stacked Bar Chart of age vs sex')\n",
        "plt.xlabel('deceased or not')\n",
        "plt.ylabel('Proportion of Covid Patients')"
      ],
      "execution_count": null,
      "outputs": [
        {
          "output_type": "execute_result",
          "data": {
            "text/plain": [
              "Text(0, 0.5, 'Proportion of Covid Patients')"
            ]
          },
          "metadata": {},
          "execution_count": 28
        },
        {
          "output_type": "display_data",
          "data": {
            "image/png": "[encoded data removed]",
            "text/plain": [
              "<Figure size 432x288 with 1 Axes>"
            ]
          },
          "metadata": {
            "needs_background": "light"
          }
        }
      ]
    },
    {
      "cell_type": "markdown",
      "metadata": {
        "id": "vhbe9Q-P_uXU"
      },
      "source": [
        "## Model Selection with Machine Learning\n",
        "This section of our code focuses on using our data to find the optimal model for predicting whether or not a hopsitalized patient is likely to die from COVID depending on the other predictor variables in our dataset. We first start out with separating our dataset into X and y datasets.\n"
      ]
    },
    {
      "cell_type": "code",
      "metadata": {
        "id": "GRHNH8-Jg1-a",
        "colab": {
          "base_uri": "https://localhost:8080/",
          "height": 226
        },
        "outputId": "9b502032-91e3-4422-c2d1-b6dc4994bf1a"
      },
      "source": [
        "df = pd.read_csv('/content/drive/MyDrive/covid_cleaned.csv')\n",
        "X = df.drop([\"died\", \"Unnamed: 0\"],axis= 1)\n",
        "y = df[[\"died\"]].values\n",
        "X.head()"
      ],
      "execution_count": 2,
      "outputs": [
        {
          "output_type": "execute_result",
          "data": {
            "text/html": [
              "<div>\n",
              "<style scoped>\n",
              "    .dataframe tbody tr th:only-of-type {\n",
              "        vertical-align: middle;\n",
              "    }\n",
              "\n",
              "    .dataframe tbody tr th {\n",
              "        vertical-align: top;\n",
              "    }\n",
              "\n",
              "    .dataframe thead th {\n",
              "        text-align: right;\n",
              "    }\n",
              "</style>\n",
              "<table border=\"1\" class=\"dataframe\">\n",
              "  <thead>\n",
              "    <tr style=\"text-align: right;\">\n",
              "      <th></th>\n",
              "      <th>sex</th>\n",
              "      <th>patient_type</th>\n",
              "      <th>pneumonia</th>\n",
              "      <th>age</th>\n",
              "      <th>diabetes</th>\n",
              "      <th>copd</th>\n",
              "      <th>asthma</th>\n",
              "      <th>inmsupr</th>\n",
              "      <th>hypertension</th>\n",
              "      <th>other_disease</th>\n",
              "      <th>cardiovascular</th>\n",
              "      <th>obesity</th>\n",
              "      <th>renal_chronic</th>\n",
              "      <th>tobacco</th>\n",
              "      <th>contact_other_covid</th>\n",
              "      <th>covid_res</th>\n",
              "    </tr>\n",
              "  </thead>\n",
              "  <tbody>\n",
              "    <tr>\n",
              "      <th>0</th>\n",
              "      <td>0.0</td>\n",
              "      <td>1.0</td>\n",
              "      <td>0.0</td>\n",
              "      <td>27</td>\n",
              "      <td>0.0</td>\n",
              "      <td>0.0</td>\n",
              "      <td>0.0</td>\n",
              "      <td>0.0</td>\n",
              "      <td>0.0</td>\n",
              "      <td>0.0</td>\n",
              "      <td>0.0</td>\n",
              "      <td>0.0</td>\n",
              "      <td>0.0</td>\n",
              "      <td>0.0</td>\n",
              "      <td>0.0</td>\n",
              "      <td>1.0</td>\n",
              "    </tr>\n",
              "    <tr>\n",
              "      <th>1</th>\n",
              "      <td>1.0</td>\n",
              "      <td>1.0</td>\n",
              "      <td>0.0</td>\n",
              "      <td>56</td>\n",
              "      <td>0.0</td>\n",
              "      <td>0.0</td>\n",
              "      <td>0.0</td>\n",
              "      <td>0.0</td>\n",
              "      <td>1.0</td>\n",
              "      <td>0.0</td>\n",
              "      <td>0.0</td>\n",
              "      <td>0.0</td>\n",
              "      <td>1.0</td>\n",
              "      <td>1.0</td>\n",
              "      <td>1.0</td>\n",
              "      <td>1.0</td>\n",
              "    </tr>\n",
              "    <tr>\n",
              "      <th>2</th>\n",
              "      <td>1.0</td>\n",
              "      <td>1.0</td>\n",
              "      <td>0.0</td>\n",
              "      <td>34</td>\n",
              "      <td>0.0</td>\n",
              "      <td>0.0</td>\n",
              "      <td>0.0</td>\n",
              "      <td>0.0</td>\n",
              "      <td>0.0</td>\n",
              "      <td>0.0</td>\n",
              "      <td>0.0</td>\n",
              "      <td>0.0</td>\n",
              "      <td>0.0</td>\n",
              "      <td>0.0</td>\n",
              "      <td>1.0</td>\n",
              "      <td>1.0</td>\n",
              "    </tr>\n",
              "    <tr>\n",
              "      <th>3</th>\n",
              "      <td>1.0</td>\n",
              "      <td>1.0</td>\n",
              "      <td>0.0</td>\n",
              "      <td>34</td>\n",
              "      <td>0.0</td>\n",
              "      <td>0.0</td>\n",
              "      <td>0.0</td>\n",
              "      <td>0.0</td>\n",
              "      <td>0.0</td>\n",
              "      <td>0.0</td>\n",
              "      <td>0.0</td>\n",
              "      <td>0.0</td>\n",
              "      <td>0.0</td>\n",
              "      <td>1.0</td>\n",
              "      <td>0.0</td>\n",
              "      <td>1.0</td>\n",
              "    </tr>\n",
              "    <tr>\n",
              "      <th>4</th>\n",
              "      <td>1.0</td>\n",
              "      <td>1.0</td>\n",
              "      <td>0.0</td>\n",
              "      <td>49</td>\n",
              "      <td>1.0</td>\n",
              "      <td>0.0</td>\n",
              "      <td>0.0</td>\n",
              "      <td>0.0</td>\n",
              "      <td>0.0</td>\n",
              "      <td>0.0</td>\n",
              "      <td>0.0</td>\n",
              "      <td>0.0</td>\n",
              "      <td>0.0</td>\n",
              "      <td>0.0</td>\n",
              "      <td>1.0</td>\n",
              "      <td>1.0</td>\n",
              "    </tr>\n",
              "  </tbody>\n",
              "</table>\n",
              "</div>"
            ],
            "text/plain": [
              "   sex  patient_type  pneumonia  ...  tobacco  contact_other_covid  covid_res\n",
              "0  0.0           1.0        0.0  ...      0.0                  0.0        1.0\n",
              "1  1.0           1.0        0.0  ...      1.0                  1.0        1.0\n",
              "2  1.0           1.0        0.0  ...      0.0                  1.0        1.0\n",
              "3  1.0           1.0        0.0  ...      1.0                  0.0        1.0\n",
              "4  1.0           1.0        0.0  ...      0.0                  1.0        1.0\n",
              "\n",
              "[5 rows x 16 columns]"
            ]
          },
          "metadata": {},
          "execution_count": 2
        }
      ]
    },
    {
      "cell_type": "markdown",
      "metadata": {
        "id": "EnaBVMQJHksq"
      },
      "source": [
        "We then split our data into training and test sets. This is used to ensure that our model is effective not just on the data it is trained and built upon."
      ]
    },
    {
      "cell_type": "code",
      "metadata": {
        "id": "P4fqUIy1g14b"
      },
      "source": [
        "#split training data into training and validation\n",
        "X_train, X_test, y_train, y_test = train_test_split(X, y, \n",
        "                                                    train_size=0.7, \n",
        "                                                    random_state=5100)"
      ],
      "execution_count": 3,
      "outputs": []
    },
    {
      "cell_type": "markdown",
      "metadata": {
        "id": "HDIV5a8IHvue"
      },
      "source": [
        "### Creating a Logistic Regression model with the original dataset\n",
        "Create a logistic regression model and train it on our X train and y train datasets to help create our predictions for the X test values."
      ]
    },
    {
      "cell_type": "code",
      "metadata": {
        "id": "75izZqYFVpa6",
        "colab": {
          "base_uri": "https://localhost:8080/"
        },
        "outputId": "7a8fc2fc-7acd-4df6-fb74-45096c8c3df6"
      },
      "source": [
        "# log reg for og dataset\n",
        "logreg = LogisticRegression(max_iter=500)\n",
        "\n",
        "#fit the model with data\n",
        "lr_model = logreg.fit(X_train, y_train)\n",
        "\n",
        "y_logreg_pred = logreg.predict(X_test)"
      ],
      "execution_count": null,
      "outputs": [
        {
          "output_type": "stream",
          "name": "stderr",
          "text": [
            "/usr/local/lib/python3.7/dist-packages/sklearn/utils/validation.py:985: DataConversionWarning: A column-vector y was passed when a 1d array was expected. Please change the shape of y to (n_samples, ), for example using ravel().\n",
            "  y = column_or_1d(y, warn=True)\n"
          ]
        }
      ]
    },
    {
      "cell_type": "markdown",
      "metadata": {
        "id": "1_CFFk-JIDlg"
      },
      "source": [
        "Create a confusion matric to evaluate how well the model was able to predict"
      ]
    },
    {
      "cell_type": "code",
      "metadata": {
        "colab": {
          "base_uri": "https://localhost:8080/"
        },
        "id": "7Miu1aOgVpYu",
        "outputId": "7c909a11-69c4-4b7e-8e9d-d8ef477c6981"
      },
      "source": [
        "#create a confusion matrix to see how well the model did in predicting true positives\n",
        "lr_cnf_matrix = metrics.confusion_matrix(y_test, y_logreg_pred)\n",
        "lr_cnf_matrix"
      ],
      "execution_count": null,
      "outputs": [
        {
          "output_type": "execute_result",
          "data": {
            "text/plain": [
              "array([[99150,   670],\n",
              "       [ 3344,   642]])"
            ]
          },
          "metadata": {},
          "execution_count": 6
        }
      ]
    },
    {
      "cell_type": "markdown",
      "metadata": {
        "id": "iCZnQ6nbIMsE"
      },
      "source": [
        "We also printed several different types of metric scores as reference."
      ]
    },
    {
      "cell_type": "code",
      "metadata": {
        "colab": {
          "base_uri": "https://localhost:8080/"
        },
        "id": "IYBnzlNKVpWK",
        "outputId": "1c0ff70d-bfa1-40a4-931e-2d4fac635d7b"
      },
      "source": [
        "#print scores for a clearer idea\n",
        "print(\"Accuracy:\", metrics.accuracy_score(y_test, y_logreg_pred))\n",
        "print(\"Precision:\", metrics.precision_score(y_test, y_logreg_pred))\n",
        "print(\"Recall:\", metrics.recall_score(y_test, y_logreg_pred))\n",
        "print(\"F1 Score:\", metrics.f1_score(y_test, y_logreg_pred))\n",
        "print(\"AUC:\", metrics.roc_auc_score(y_test, y_logreg_pred))"
      ],
      "execution_count": null,
      "outputs": [
        {
          "output_type": "stream",
          "name": "stdout",
          "text": [
            "Accuracy: 0.9613317149297729\n",
            "Precision: 0.4893292682926829\n",
            "Recall: 0.16106372303060712\n",
            "F1 Score: 0.24235560588901475\n",
            "AUC: 0.5771758206417311\n"
          ]
        }
      ]
    },
    {
      "cell_type": "markdown",
      "metadata": {
        "id": "BHbEoJD0Ik3W"
      },
      "source": [
        "Create and ROC curve to help visualize the model's effectiveness"
      ]
    },
    {
      "cell_type": "code",
      "metadata": {
        "id": "C_rD9o5uQ7Ch",
        "colab": {
          "base_uri": "https://localhost:8080/",
          "height": 295
        },
        "outputId": "aa2f80f0-2c6d-4b48-9433-ce3be33d12a9"
      },
      "source": [
        "logit_roc_auc = roc_auc_score(y_test, logreg.predict(X_test))\n",
        "fpr, tpr, thresholds = roc_curve(y_test, logreg.predict_proba(X_test)[:,1])\n",
        "plt.figure()\n",
        "plt.plot(fpr, tpr, label='Logistic Regression (area = %0.2f)' % logit_roc_auc)\n",
        "plt.plot([0, 1], [0, 1],'r--')\n",
        "plt.xlim([0.0, 1.0])\n",
        "plt.ylim([0.0, 1.05])\n",
        "plt.xlabel('False Positive Rate')\n",
        "plt.ylabel('True Positive Rate')\n",
        "plt.title('Receiver operating characteristic')\n",
        "plt.legend(loc=\"lower right\")\n",
        "plt.savefig('Log_ROC')\n",
        "plt.show()"
      ],
      "execution_count": null,
      "outputs": [
        {
          "output_type": "display_data",
          "data": {
            "image/png": "[encoded data removed]",
            "text/plain": [
              "<Figure size 432x288 with 1 Axes>"
            ]
          },
          "metadata": {
            "needs_background": "light"
          }
        }
      ]
    },
    {
      "cell_type": "markdown",
      "metadata": {
        "id": "YV9gIS0aItBd"
      },
      "source": [
        "The predict_prob function is tested below and will be used for our user input section when we help predict a separate user's own survival rate given their own pre-existing conditions."
      ]
    },
    {
      "cell_type": "code",
      "metadata": {
        "id": "V2xsL6Pq6FG2",
        "colab": {
          "base_uri": "https://localhost:8080/"
        },
        "outputId": "010bdf5c-7e40-4647-e69a-320664b602af"
      },
      "source": [
        "# this function will allow us to return the probability of death or survival for user data\n",
        "logreg.predict_proba(X_test)"
      ],
      "execution_count": null,
      "outputs": [
        {
          "output_type": "execute_result",
          "data": {
            "text/plain": [
              "array([[0.99776078, 0.00223922],\n",
              "       [0.86519023, 0.13480977],\n",
              "       [0.99643805, 0.00356195],\n",
              "       ...,\n",
              "       [0.99832469, 0.00167531],\n",
              "       [0.99800363, 0.00199637],\n",
              "       [0.98271633, 0.01728367]])"
            ]
          },
          "metadata": {},
          "execution_count": 9
        }
      ]
    },
    {
      "cell_type": "markdown",
      "metadata": {
        "id": "-z8e9cnAI6NM"
      },
      "source": [
        "### Creating a Decision Tree with the original dataset\n",
        "Create a decision tree model and train it on our X train and y train datasets to help create our predictions for the X test values. The following blocks of code follow the same pattern as show for the logistic regression: model fitting, confusion matrix, metric scores, and ROC curve."
      ]
    },
    {
      "cell_type": "code",
      "metadata": {
        "id": "F9HtjnlXOJZE"
      },
      "source": [
        "# decision tree for og dataset\n",
        "\n",
        "dt = DecisionTreeClassifier()\n",
        "dt_model= dt.fit(X_train, y_train)\n",
        "\n",
        "y_dt_pred = dt.predict(X_test)"
      ],
      "execution_count": null,
      "outputs": []
    },
    {
      "cell_type": "code",
      "metadata": {
        "id": "HefD9Ri6OJWq",
        "colab": {
          "base_uri": "https://localhost:8080/"
        },
        "outputId": "e001e1ab-138a-4aca-e01d-09d045d2032c"
      },
      "source": [
        "#create a confusion matrix to see how well the model did in predicting true positives\n",
        "dt_cnf_matrix = metrics.confusion_matrix(y_test, y_dt_pred)\n",
        "dt_cnf_matrix"
      ],
      "execution_count": null,
      "outputs": [
        {
          "output_type": "execute_result",
          "data": {
            "text/plain": [
              "array([[98415,  1405],\n",
              "       [ 3178,   808]])"
            ]
          },
          "metadata": {},
          "execution_count": 11
        }
      ]
    },
    {
      "cell_type": "code",
      "metadata": {
        "id": "uTa2-mapOJUM",
        "colab": {
          "base_uri": "https://localhost:8080/"
        },
        "outputId": "f7c0fdfe-e39e-4e76-d5bd-ecbad12c0cb1"
      },
      "source": [
        "#print scores for a clearer idea\n",
        "print(\"Accuracy:\", metrics.accuracy_score(y_test, y_dt_pred))\n",
        "print(\"Precision:\", metrics.precision_score(y_test, y_dt_pred))\n",
        "print(\"Recall:\", metrics.recall_score(y_test, y_dt_pred))\n",
        "print(\"F1 Score:\", metrics.f1_score(y_test, y_dt_pred))\n",
        "print(\"AUC:\", metrics.roc_auc_score(y_test, y_dt_pred))"
      ],
      "execution_count": null,
      "outputs": [
        {
          "output_type": "stream",
          "name": "stdout",
          "text": [
            "Accuracy: 0.955850336204073\n",
            "Precision: 0.36511522819701764\n",
            "Recall: 0.2027094831911691\n",
            "F1 Score: 0.26068720761413133\n",
            "AUC: 0.5943170737935408\n"
          ]
        }
      ]
    },
    {
      "cell_type": "code",
      "metadata": {
        "colab": {
          "base_uri": "https://localhost:8080/",
          "height": 295
        },
        "id": "CY6ynvB76uv2",
        "outputId": "d579abc3-0315-4bcd-9275-da5e1557be21"
      },
      "source": [
        "dt_roc_auc = roc_auc_score(y_test, dt.predict(X_test))\n",
        "fpr, tpr, thresholds = roc_curve(y_test, dt.predict_proba(X_test)[:,1])\n",
        "plt.figure()\n",
        "plt.plot(fpr, tpr, label='Decision Tree (area = %0.2f)' % dt_roc_auc)\n",
        "plt.plot([0, 1], [0, 1],'r--')\n",
        "plt.xlim([0.0, 1.0])\n",
        "plt.ylim([0.0, 1.05])\n",
        "plt.xlabel('False Positive Rate')\n",
        "plt.ylabel('True Positive Rate')\n",
        "plt.title('Receiver operating characteristic')\n",
        "plt.legend(loc=\"lower right\")\n",
        "plt.savefig('DT_ROC')\n",
        "plt.show()"
      ],
      "execution_count": null,
      "outputs": [
        {
          "output_type": "display_data",
          "data": {
            "image/png": "[encoded data removed]",
            "text/plain": [
              "<Figure size 432x288 with 1 Axes>"
            ]
          },
          "metadata": {
            "needs_background": "light"
          }
        }
      ]
    },
    {
      "cell_type": "markdown",
      "metadata": {
        "id": "jE9ojHzCJRyn"
      },
      "source": [
        "### Creating a Random Forest with the original dataset\n",
        "Create a random forest model and train it on our X train and y train datasets to help create our predictions for the X test values. The following blocks of code follow the same pattern as show for the logistic regression: model fitting, confusion matrix, metric scores, and ROC curve."
      ]
    },
    {
      "cell_type": "code",
      "metadata": {
        "id": "hUyJIREpOJRi",
        "colab": {
          "base_uri": "https://localhost:8080/"
        },
        "outputId": "1b38b6b7-0e48-4e7c-95a8-07c8655ea49c"
      },
      "source": [
        "# random forest for og dataset\n",
        "\n",
        "rf = RandomForestClassifier()\n",
        "rf_model= rf.fit(X_train, y_train)\n",
        "\n",
        "y_rf_pred = rf.predict(X_test)"
      ],
      "execution_count": null,
      "outputs": [
        {
          "output_type": "stream",
          "name": "stderr",
          "text": [
            "/usr/local/lib/python3.7/dist-packages/ipykernel_launcher.py:4: DataConversionWarning: A column-vector y was passed when a 1d array was expected. Please change the shape of y to (n_samples,), for example using ravel().\n",
            "  after removing the cwd from sys.path.\n"
          ]
        }
      ]
    },
    {
      "cell_type": "code",
      "metadata": {
        "id": "mKp8rNnfOJPY",
        "colab": {
          "base_uri": "https://localhost:8080/"
        },
        "outputId": "5da50d27-5e78-4e7c-8268-dfc5fa557ae7"
      },
      "source": [
        "#create a confusion matrix to see how well the model did in predicting true positives\n",
        "rf_cnf_matrix = metrics.confusion_matrix(y_test, y_rf_pred)\n",
        "rf_cnf_matrix"
      ],
      "execution_count": null,
      "outputs": [
        {
          "output_type": "execute_result",
          "data": {
            "text/plain": [
              "array([[98474,  1346],\n",
              "       [ 3129,   857]])"
            ]
          },
          "metadata": {},
          "execution_count": 15
        }
      ]
    },
    {
      "cell_type": "code",
      "metadata": {
        "id": "admEAaGgOJND",
        "colab": {
          "base_uri": "https://localhost:8080/"
        },
        "outputId": "415d4bc3-17da-40d4-a889-9715b85ef3cc"
      },
      "source": [
        "#print scores for a clearer idea\n",
        "print(\"Accuracy:\", metrics.accuracy_score(y_test, y_rf_pred))\n",
        "print(\"Precision:\", metrics.precision_score(y_test, y_rf_pred))\n",
        "print(\"Recall:\", metrics.recall_score(y_test, y_rf_pred))\n",
        "print(\"F1 Score:\", metrics.f1_score(y_test, y_rf_pred))\n",
        "print(\"AUC:\", metrics.roc_auc_score(y_test, y_rf_pred))"
      ],
      "execution_count": null,
      "outputs": [
        {
          "output_type": "stream",
          "name": "stdout",
          "text": [
            "Accuracy: 0.956890738492958\n",
            "Precision: 0.3890149795733091\n",
            "Recall: 0.21500250878073257\n",
            "F1 Score: 0.27694296332202295\n",
            "AUC: 0.6007591185458461\n"
          ]
        }
      ]
    },
    {
      "cell_type": "code",
      "metadata": {
        "colab": {
          "base_uri": "https://localhost:8080/",
          "height": 295
        },
        "id": "BZsstyHsF3Lb",
        "outputId": "cf041d13-3e8b-48a6-e2d1-be36263a7b3e"
      },
      "source": [
        "rf_roc_auc = roc_auc_score(y_test, rf.predict(X_test))\n",
        "fpr, tpr, thresholds = roc_curve(y_test, rf.predict_proba(X_test)[:,1])\n",
        "plt.figure()\n",
        "plt.plot(fpr, tpr, label='Random Forest (area = %0.2f)' % rf_roc_auc)\n",
        "plt.plot([0, 1], [0, 1],'r--')\n",
        "plt.xlim([0.0, 1.0])\n",
        "plt.ylim([0.0, 1.05])\n",
        "plt.xlabel('False Positive Rate')\n",
        "plt.ylabel('True Positive Rate')\n",
        "plt.title('Receiver operating characteristic')\n",
        "plt.legend(loc=\"lower right\")\n",
        "plt.savefig('RF_ROC')\n",
        "plt.show()"
      ],
      "execution_count": null,
      "outputs": [
        {
          "output_type": "display_data",
          "data": {
            "image/png": "[encoded data removed]",
            "text/plain": [
              "<Figure size 432x288 with 1 Axes>"
            ]
          },
          "metadata": {
            "needs_background": "light"
          }
        }
      ]
    },
    {
      "cell_type": "markdown",
      "metadata": {
        "id": "0kTH9oPD_ezg"
      },
      "source": [
        "### Creating a balanced dataset and training the previous three classifier models with this new dataset\n",
        "As we noted in our EDA process, the response variable in our dataset is highly imbalanced (as can be seen in the visualization below). This can also be noticed in how our previous three models have shown to have a high accuracy but very low other metric scores. This indicates that because the current models are trained on data with a majority of the response variable indicating the hospital patients survived, then the model itself is more likely to predict that a patient will survive, even if they are actually more at risk to die given their conditions. "
      ]
    },
    {
      "cell_type": "code",
      "metadata": {
        "id": "tNtMiZZBQnxz",
        "colab": {
          "base_uri": "https://localhost:8080/",
          "height": 313
        },
        "outputId": "7ee9a73e-896d-46c4-ac1d-f9de492804f6"
      },
      "source": [
        "count_classes = pd.value_counts(df['died'])\n",
        "count_classes.plot(kind = 'bar', rot=0)\n",
        "plt.title(\"Class Distribution\")\n",
        "plt.xlabel(\"Class\")\n",
        "plt.ylabel(\"Frequency\")"
      ],
      "execution_count": null,
      "outputs": [
        {
          "output_type": "execute_result",
          "data": {
            "text/plain": [
              "Text(0, 0.5, 'Frequency')"
            ]
          },
          "metadata": {},
          "execution_count": 18
        },
        {
          "output_type": "display_data",
          "data": {
            "image/png": "[encoded data removed]",
            "text/plain": [
              "<Figure size 432x288 with 1 Axes>"
            ]
          },
          "metadata": {
            "needs_background": "light"
          }
        }
      ]
    },
    {
      "cell_type": "code",
      "metadata": {
        "id": "0Dr_Iy3eQnwX",
        "colab": {
          "base_uri": "https://localhost:8080/"
        },
        "outputId": "e725b112-eab1-44e9-d788-f0fd7d001fc8"
      },
      "source": [
        "count_classes"
      ],
      "execution_count": null,
      "outputs": [
        {
          "output_type": "execute_result",
          "data": {
            "text/plain": [
              "0.0    332694\n",
              "1.0     13323\n",
              "Name: died, dtype: int64"
            ]
          },
          "metadata": {},
          "execution_count": 4
        }
      ]
    },
    {
      "cell_type": "markdown",
      "metadata": {
        "id": "cavjaeYkJ1I3"
      },
      "source": [
        "In order to prevent this misclassification from happening, we will be creating a balanced dataset using oversampling, the process of duplicating examples from the minority class in the training dataset so the number of observations for the response variables is the same."
      ]
    },
    {
      "cell_type": "code",
      "metadata": {
        "id": "IkE6S0lqQnq8"
      },
      "source": [
        "oversample = RandomOverSampler(sampling_strategy='minority', random_state=5100)\n",
        "bal_X, bal_y = oversample.fit_resample(X, y)"
      ],
      "execution_count": 4,
      "outputs": []
    },
    {
      "cell_type": "code",
      "metadata": {
        "id": "Q7bcZQQ7Qnnk",
        "colab": {
          "base_uri": "https://localhost:8080/"
        },
        "outputId": "674b41d2-faf6-45f1-bf71-9de0326577f2"
      },
      "source": [
        "bal_count = pd.value_counts(bal_y)\n",
        "bal_count"
      ],
      "execution_count": null,
      "outputs": [
        {
          "output_type": "execute_result",
          "data": {
            "text/plain": [
              "1.0    332694\n",
              "0.0    332694\n",
              "dtype: int64"
            ]
          },
          "metadata": {},
          "execution_count": 13
        }
      ]
    },
    {
      "cell_type": "markdown",
      "metadata": {
        "id": "IqpB80_7Ltw4"
      },
      "source": [
        "Splitting this new balanced dataset into training and test sets."
      ]
    },
    {
      "cell_type": "code",
      "metadata": {
        "id": "XlMeoInoQnjc"
      },
      "source": [
        "#split balance training data into training and validation\n",
        "bal_X_train, bal_X_test, bal_y_train, bal_y_test = train_test_split(bal_X, bal_y, \n",
        "                                                    train_size=0.7, \n",
        "                                                    random_state=5100)"
      ],
      "execution_count": 5,
      "outputs": []
    },
    {
      "cell_type": "markdown",
      "metadata": {
        "id": "T2oE6zkOL2od"
      },
      "source": [
        "### Creating a Logistic Regression model with the balanced dataset\n",
        "Create a logistic regression model and train it on our X train and y train datasets to help create our predictions for the X test values. The following blocks of code follow the same pattern as show for the three previous classifier models: model fitting, confusion matrix, metric scores, and ROC curve."
      ]
    },
    {
      "cell_type": "code",
      "metadata": {
        "id": "nC0xJTGpQnId"
      },
      "source": [
        "# log reg for bal dataset\n",
        "bal_logreg = LogisticRegression(max_iter=500)\n",
        "\n",
        "#fit the model with data\n",
        "bal_lr_model = bal_logreg.fit(bal_X_train, bal_y_train)\n",
        "\n",
        "bal_y_logreg_pred = bal_logreg.predict(bal_X_test)"
      ],
      "execution_count": null,
      "outputs": []
    },
    {
      "cell_type": "code",
      "metadata": {
        "colab": {
          "base_uri": "https://localhost:8080/"
        },
        "id": "PtcJHrLfDDRG",
        "outputId": "0af49d0d-5ae6-4f59-f374-1fcbc20f891c"
      },
      "source": [
        "#create a confusion matrix to see how well the model did in predicting true positives\n",
        "bal_lr_cnf_matrix = metrics.confusion_matrix(bal_y_test, bal_y_logreg_pred)\n",
        "bal_lr_cnf_matrix"
      ],
      "execution_count": null,
      "outputs": [
        {
          "output_type": "execute_result",
          "data": {
            "text/plain": [
              "array([[89875,  9838],\n",
              "       [ 7177, 92727]])"
            ]
          },
          "metadata": {},
          "execution_count": 29
        }
      ]
    },
    {
      "cell_type": "code",
      "metadata": {
        "colab": {
          "base_uri": "https://localhost:8080/"
        },
        "id": "yqjaTJzCDDO0",
        "outputId": "7862da5e-c710-444c-cbbb-5969a2af3942"
      },
      "source": [
        "#print scores for a clearer idea\n",
        "print(\"Accuracy:\", metrics.accuracy_score(bal_y_test, bal_y_logreg_pred))\n",
        "print(\"Precision:\", metrics.precision_score(bal_y_test, bal_y_logreg_pred))\n",
        "print(\"Recall:\", metrics.recall_score(bal_y_test, bal_y_logreg_pred))\n",
        "print(\"F1 Score:\", metrics.f1_score(bal_y_test, bal_y_logreg_pred))\n",
        "print(\"AUC:\", metrics.roc_auc_score(bal_y_test, bal_y_logreg_pred))"
      ],
      "execution_count": null,
      "outputs": [
        {
          "output_type": "stream",
          "name": "stdout",
          "text": [
            "Accuracy: 0.9147617687872276\n",
            "Precision: 0.9040803392970311\n",
            "Recall: 0.9281610345932095\n",
            "F1 Score: 0.9159624436333463\n",
            "AUC: 0.9147489356572999\n"
          ]
        }
      ]
    },
    {
      "cell_type": "code",
      "metadata": {
        "colab": {
          "base_uri": "https://localhost:8080/",
          "height": 295
        },
        "id": "ZWYRKo9FDDKN",
        "outputId": "9cb79730-fc54-46fc-e0e4-f46783c02edd"
      },
      "source": [
        "bal_logit_roc_auc = roc_auc_score(bal_y_test, bal_logreg.predict(bal_X_test))\n",
        "fpr, tpr, thresholds = roc_curve(bal_y_test, bal_logreg.predict_proba(bal_X_test)[:,1])\n",
        "plt.figure()\n",
        "plt.plot(fpr, tpr, label='Logistic Regression (area = %0.2f)' % bal_logit_roc_auc)\n",
        "plt.plot([0, 1], [0, 1],'r--')\n",
        "plt.xlim([0.0, 1.0])\n",
        "plt.ylim([0.0, 1.05])\n",
        "plt.xlabel('False Positive Rate')\n",
        "plt.ylabel('True Positive Rate')\n",
        "plt.title('Receiver operating characteristic')\n",
        "plt.legend(loc=\"lower right\")\n",
        "plt.savefig('Log_ROC')\n",
        "plt.show()"
      ],
      "execution_count": null,
      "outputs": [
        {
          "output_type": "display_data",
          "data": {
            "image/png": "[encoded data removed]",
            "text/plain": [
              "<Figure size 432x288 with 1 Axes>"
            ]
          },
          "metadata": {
            "needs_background": "light"
          }
        }
      ]
    },
    {
      "cell_type": "markdown",
      "metadata": {
        "id": "PQrSYVMpMQ6I"
      },
      "source": [
        "### Creating a Decision Tree model with the balanced dataset\n",
        "Create a decision tree model and train it on our X train and y train datasets to help create our predictions for the X test values. The following blocks of code follow the same pattern as show for the three previous classifier models: model fitting, confusion matrix, metric scores, and ROC curve."
      ]
    },
    {
      "cell_type": "code",
      "metadata": {
        "id": "owD6DX5SD_lh"
      },
      "source": [
        "# decision tree for bal dataset\n",
        "\n",
        "bal_dt = DecisionTreeClassifier()\n",
        "bal_dt_model= bal_dt.fit(bal_X_train, bal_y_train)\n",
        "\n",
        "bal_y_dt_pred = bal_dt.predict(bal_X_test)"
      ],
      "execution_count": null,
      "outputs": []
    },
    {
      "cell_type": "code",
      "metadata": {
        "colab": {
          "base_uri": "https://localhost:8080/"
        },
        "id": "nZlPcBHtD_id",
        "outputId": "898fa3cd-9eac-4101-be16-ea15c7613690"
      },
      "source": [
        "#create a confusion matrix to see how well the model did in predicting true positives\n",
        "bal_dt_cnf_matrix = metrics.confusion_matrix(bal_y_test, bal_y_dt_pred)\n",
        "bal_dt_cnf_matrix"
      ],
      "execution_count": null,
      "outputs": [
        {
          "output_type": "execute_result",
          "data": {
            "text/plain": [
              "array([[91620,  8093],\n",
              "       [ 1628, 98276]])"
            ]
          },
          "metadata": {},
          "execution_count": 27
        }
      ]
    },
    {
      "cell_type": "code",
      "metadata": {
        "colab": {
          "base_uri": "https://localhost:8080/"
        },
        "id": "fyykItqtD_cy",
        "outputId": "57960fd9-40f7-4188-fd1a-4f631df2ed1a"
      },
      "source": [
        "#print scores for a clearer idea\n",
        "print(\"Accuracy:\", metrics.accuracy_score(bal_y_test, bal_y_dt_pred))\n",
        "print(\"Precision:\", metrics.precision_score(bal_y_test, bal_y_dt_pred))\n",
        "print(\"Recall:\", metrics.recall_score(bal_y_test, bal_y_dt_pred))\n",
        "print(\"F1 Score:\", metrics.f1_score(bal_y_test, bal_y_dt_pred))\n",
        "print(\"AUC:\", metrics.roc_auc_score(bal_y_test, bal_y_dt_pred))"
      ],
      "execution_count": null,
      "outputs": [
        {
          "output_type": "stream",
          "name": "stdout",
          "text": [
            "Accuracy: 0.9513017428375339\n",
            "Precision: 0.9239158025364533\n",
            "Recall: 0.9837043561819346\n",
            "F1 Score: 0.9528731341474649\n",
            "AUC: 0.9512707092754668\n"
          ]
        }
      ]
    },
    {
      "cell_type": "code",
      "metadata": {
        "colab": {
          "base_uri": "https://localhost:8080/",
          "height": 295
        },
        "id": "nK_miZcUD_Qv",
        "outputId": "49972c9b-8ba4-4662-b339-473f2ce21df0"
      },
      "source": [
        "bal_dt_roc_auc = roc_auc_score(bal_y_test, bal_dt.predict(bal_X_test))\n",
        "fpr, tpr, thresholds = roc_curve(bal_y_test, bal_dt.predict_proba(bal_X_test)[:,1])\n",
        "plt.figure()\n",
        "plt.plot(fpr, tpr, label='Decision Tree (area = %0.2f)' % bal_dt_roc_auc)\n",
        "plt.plot([0, 1], [0, 1],'r--')\n",
        "plt.xlim([0.0, 1.0])\n",
        "plt.ylim([0.0, 1.05])\n",
        "plt.xlabel('False Positive Rate')\n",
        "plt.ylabel('True Positive Rate')\n",
        "plt.title('Receiver operating characteristic')\n",
        "plt.legend(loc=\"lower right\")\n",
        "plt.savefig('DT_ROC')\n",
        "plt.show()"
      ],
      "execution_count": null,
      "outputs": [
        {
          "output_type": "display_data",
          "data": {
            "image/png": "[encoded data removed]",
            "text/plain": [
              "<Figure size 432x288 with 1 Axes>"
            ]
          },
          "metadata": {
            "needs_background": "light"
          }
        }
      ]
    },
    {
      "cell_type": "markdown",
      "metadata": {
        "id": "-jfR_80oMF_S"
      },
      "source": [
        "### Creating a Random Forest model with the balanced dataset\n",
        "Create a random forest model and train it on our X train and y train datasets to help create our predictions for the X test values. The following blocks of code follow the same pattern as show for the three previous classifier models: model fitting, confusion matrix, metric scores, and ROC curve."
      ]
    },
    {
      "cell_type": "code",
      "metadata": {
        "id": "RtKaeDgXD_Oh"
      },
      "source": [
        "# random forest for bal dataset\n",
        "\n",
        "bal_rf = RandomForestClassifier()\n",
        "bal_rf_model= bal_rf.fit(bal_X_train, bal_y_train)\n",
        "\n",
        "bal_y_rf_pred = bal_rf.predict(bal_X_test)"
      ],
      "execution_count": 6,
      "outputs": []
    },
    {
      "cell_type": "code",
      "metadata": {
        "colab": {
          "base_uri": "https://localhost:8080/"
        },
        "id": "lFY0S1j0D_LU",
        "outputId": "5a34fc76-39e3-463d-c1e4-81d990bf69d8"
      },
      "source": [
        "#create a confusion matrix to see how well the model did in predicting true positives\n",
        "bal_rf_cnf_matrix = metrics.confusion_matrix(bal_y_test, bal_y_rf_pred)\n",
        "bal_rf_cnf_matrix"
      ],
      "execution_count": null,
      "outputs": [
        {
          "output_type": "execute_result",
          "data": {
            "text/plain": [
              "array([[91699,  8014],\n",
              "       [ 1578, 98326]])"
            ]
          },
          "metadata": {},
          "execution_count": 10
        }
      ]
    },
    {
      "cell_type": "code",
      "metadata": {
        "id": "wUFJqL5aOJKi",
        "colab": {
          "base_uri": "https://localhost:8080/"
        },
        "outputId": "bcf68f31-a9f5-4053-9119-5eb772ecc1c7"
      },
      "source": [
        "#print scores for a clearer idea\n",
        "print(\"Accuracy:\", metrics.accuracy_score(bal_y_test, bal_y_rf_pred))\n",
        "print(\"Precision:\", metrics.precision_score(bal_y_test, bal_y_rf_pred))\n",
        "print(\"Recall:\", metrics.recall_score(bal_y_test, bal_y_rf_pred))\n",
        "print(\"F1 Score:\", metrics.f1_score(bal_y_test, bal_y_rf_pred))\n",
        "print(\"AUC:\", metrics.roc_auc_score(bal_y_test, bal_y_rf_pred))"
      ],
      "execution_count": null,
      "outputs": [
        {
          "output_type": "stream",
          "name": "stdout",
          "text": [
            "Accuracy: 0.9519579995691749\n",
            "Precision: 0.924711259922501\n",
            "Recall: 0.9841347693786034\n",
            "F1 Score: 0.953498070097174\n",
            "AUC: 0.9519271823084687\n"
          ]
        }
      ]
    },
    {
      "cell_type": "code",
      "metadata": {
        "colab": {
          "base_uri": "https://localhost:8080/",
          "height": 295
        },
        "id": "CMSJ3QPhF5Sf",
        "outputId": "7ec1fe23-551b-4beb-c265-3e25050f823b"
      },
      "source": [
        "bal_rf_roc_auc = roc_auc_score(bal_y_test, bal_rf.predict(bal_X_test))\n",
        "fpr, tpr, thresholds = roc_curve(bal_y_test, bal_rf.predict_proba(bal_X_test)[:,1])\n",
        "plt.figure()\n",
        "plt.plot(fpr, tpr, label='Random Forest (area = %0.2f)' % bal_rf_roc_auc)\n",
        "plt.plot([0, 1], [0, 1],'r--')\n",
        "plt.xlim([0.0, 1.0])\n",
        "plt.ylim([0.0, 1.05])\n",
        "plt.xlabel('False Positive Rate')\n",
        "plt.ylabel('True Positive Rate')\n",
        "plt.title('Receiver operating characteristic')\n",
        "plt.legend(loc=\"lower right\")\n",
        "plt.savefig('RF_ROC')\n",
        "plt.show()"
      ],
      "execution_count": null,
      "outputs": [
        {
          "output_type": "display_data",
          "data": {
            "image/png": "[encoded data removed]",
            "text/plain": [
              "<Figure size 432x288 with 1 Axes>"
            ]
          },
          "metadata": {
            "needs_background": "light"
          }
        }
      ]
    },
    {
      "cell_type": "markdown",
      "metadata": {
        "id": "twos6_gNMhNS"
      },
      "source": [
        "### Model Selection Conclusions\n",
        "Based on the 6 models created (3 with the original dataset and 3 with the balanced/oversampled dataset), we should choose our best one to move forward to apply to our user input section for predicting probabilities. It appears that the Random Forest model trained with the balanced dataset gives us the best results so far so we will move forward with them. In terms of feature importance, we noted that in the following two code blocks, that the top three most important features from our most optimal model are patient type (inpatient vs outpatient), age of patient, and whether or not the patient had pneumonia."
      ]
    },
    {
      "cell_type": "code",
      "metadata": {
        "colab": {
          "base_uri": "https://localhost:8080/",
          "height": 551
        },
        "id": "ylCDVgfISO7y",
        "outputId": "70f70a29-306b-4f9f-9191-3d229b56c39d"
      },
      "source": [
        "ft_imp = pd.DataFrame({'Variables':bal_X.columns, 'Importance':bal_rf.feature_importances_})\n",
        "ft_imp"
      ],
      "execution_count": null,
      "outputs": [
        {
          "output_type": "execute_result",
          "data": {
            "text/html": [
              "<div>\n",
              "<style scoped>\n",
              "    .dataframe tbody tr th:only-of-type {\n",
              "        vertical-align: middle;\n",
              "    }\n",
              "\n",
              "    .dataframe tbody tr th {\n",
              "        vertical-align: top;\n",
              "    }\n",
              "\n",
              "    .dataframe thead th {\n",
              "        text-align: right;\n",
              "    }\n",
              "</style>\n",
              "<table border=\"1\" class=\"dataframe\">\n",
              "  <thead>\n",
              "    <tr style=\"text-align: right;\">\n",
              "      <th></th>\n",
              "      <th>Variables</th>\n",
              "      <th>Importance</th>\n",
              "    </tr>\n",
              "  </thead>\n",
              "  <tbody>\n",
              "    <tr>\n",
              "      <th>0</th>\n",
              "      <td>sex</td>\n",
              "      <td>0.008074</td>\n",
              "    </tr>\n",
              "    <tr>\n",
              "      <th>1</th>\n",
              "      <td>patient_type</td>\n",
              "      <td>0.300863</td>\n",
              "    </tr>\n",
              "    <tr>\n",
              "      <th>2</th>\n",
              "      <td>pneumonia</td>\n",
              "      <td>0.381322</td>\n",
              "    </tr>\n",
              "    <tr>\n",
              "      <th>3</th>\n",
              "      <td>age</td>\n",
              "      <td>0.170902</td>\n",
              "    </tr>\n",
              "    <tr>\n",
              "      <th>4</th>\n",
              "      <td>diabetes</td>\n",
              "      <td>0.019835</td>\n",
              "    </tr>\n",
              "    <tr>\n",
              "      <th>5</th>\n",
              "      <td>copd</td>\n",
              "      <td>0.003635</td>\n",
              "    </tr>\n",
              "    <tr>\n",
              "      <th>6</th>\n",
              "      <td>asthma</td>\n",
              "      <td>0.002842</td>\n",
              "    </tr>\n",
              "    <tr>\n",
              "      <th>7</th>\n",
              "      <td>inmsupr</td>\n",
              "      <td>0.003199</td>\n",
              "    </tr>\n",
              "    <tr>\n",
              "      <th>8</th>\n",
              "      <td>hypertension</td>\n",
              "      <td>0.011921</td>\n",
              "    </tr>\n",
              "    <tr>\n",
              "      <th>9</th>\n",
              "      <td>other_disease</td>\n",
              "      <td>0.003850</td>\n",
              "    </tr>\n",
              "    <tr>\n",
              "      <th>10</th>\n",
              "      <td>cardiovascular</td>\n",
              "      <td>0.003913</td>\n",
              "    </tr>\n",
              "    <tr>\n",
              "      <th>11</th>\n",
              "      <td>obesity</td>\n",
              "      <td>0.007378</td>\n",
              "    </tr>\n",
              "    <tr>\n",
              "      <th>12</th>\n",
              "      <td>renal_chronic</td>\n",
              "      <td>0.004418</td>\n",
              "    </tr>\n",
              "    <tr>\n",
              "      <th>13</th>\n",
              "      <td>tobacco</td>\n",
              "      <td>0.004845</td>\n",
              "    </tr>\n",
              "    <tr>\n",
              "      <th>14</th>\n",
              "      <td>contact_other_covid</td>\n",
              "      <td>0.026201</td>\n",
              "    </tr>\n",
              "    <tr>\n",
              "      <th>15</th>\n",
              "      <td>covid_res</td>\n",
              "      <td>0.046801</td>\n",
              "    </tr>\n",
              "  </tbody>\n",
              "</table>\n",
              "</div>"
            ],
            "text/plain": [
              "              Variables  Importance\n",
              "0                   sex    0.008074\n",
              "1          patient_type    0.300863\n",
              "2             pneumonia    0.381322\n",
              "3                   age    0.170902\n",
              "4              diabetes    0.019835\n",
              "5                  copd    0.003635\n",
              "6                asthma    0.002842\n",
              "7               inmsupr    0.003199\n",
              "8          hypertension    0.011921\n",
              "9         other_disease    0.003850\n",
              "10       cardiovascular    0.003913\n",
              "11              obesity    0.007378\n",
              "12        renal_chronic    0.004418\n",
              "13              tobacco    0.004845\n",
              "14  contact_other_covid    0.026201\n",
              "15            covid_res    0.046801"
            ]
          },
          "metadata": {},
          "execution_count": 60
        }
      ]
    },
    {
      "cell_type": "code",
      "metadata": {
        "colab": {
          "base_uri": "https://localhost:8080/",
          "height": 386
        },
        "id": "u9begCuiTHD4",
        "outputId": "7a9b2e5b-f090-4fe6-925a-04f8690e4102"
      },
      "source": [
        "# plot feature importance\n",
        "pyplot.bar(ft_imp.Variables, ft_imp.Importance)\n",
        "plt.xticks(rotation=90)\n",
        "plt.title(\"Feature Importance\")\n",
        "plt.xlabel(\"Predictor Variables\")\n",
        "plt.ylabel(\"Importance\")\n",
        "pyplot.show()"
      ],
      "execution_count": null,
      "outputs": [
        {
          "output_type": "display_data",
          "data": {
            "image/png": "[encoded data removed]",
            "text/plain": [
              "<Figure size 432x288 with 1 Axes>"
            ]
          },
          "metadata": {
            "needs_background": "light"
          }
        }
      ]
    },
    {
      "cell_type": "markdown",
      "metadata": {
        "id": "D1yufuwOOA88"
      },
      "source": [
        "## Creating a User object to predict their COVID survival rate\n",
        "Utilizing our optimal model, in this section we create a user class object where when created, the system will prompt the user (a supposed patient at the hostpial) to enter their information such as age and other pre- existing conditions, which our model will then take in as the new 'X' and return the probability of the user's COVID survival rate given this input.\n",
        "\n",
        "*Note: This user input code can also be found on a separate .py file on our group's GitHub repository, along with the pickle containing our optimal model to be run locally if so desired.*\n"
      ]
    },
    {
      "cell_type": "code",
      "metadata": {
        "id": "5b4zJ2hcL6fn"
      },
      "source": [
        "class Predict_user():\n",
        "    def __init__(self):\n",
        "        #Gathering user data on input\n",
        "\n",
        "        #printing intro text welcoming user\n",
        "        print('\\n\\n\\nHi! Please answer these questions to get a personalized probability of survival if hospitalized for COVID-19.\\n\\n')\n",
        "\n",
        "\n",
        "        #Gathering user data for sex\n",
        "\n",
        "        while True:\n",
        "            Sex = input('\\nWhat is your sex? M or F ')\n",
        "            \n",
        "            #Text Sanitization\n",
        "            Sex = Sex.strip().capitalize()\n",
        "            \n",
        "            if Sex == \"F\" or Sex == \"M\":\n",
        "                if Sex == \"M\":\n",
        "                    self.Sex = 1\n",
        "                else:  \n",
        "                    self.Sex = 0\n",
        "                break\n",
        "                \n",
        "            print(\"\\n\\nPlease enter 'M' or 'F' to proceed.\\n\\n\")\n",
        "            \n",
        "\n",
        "        #Gathering user data for age\n",
        "\n",
        "        while True:\n",
        "            Age = input('\\nWhat is your age? Please enter a number:      ')\n",
        "            \n",
        "            #Text Sanitization\n",
        "            Age = Age.strip()\n",
        "            \n",
        "            #Text Checking\n",
        "            valid_age = bool(re.search('^[0-9]{1,2}$', Age))\n",
        "            \n",
        "            if valid_age:\n",
        "                self.Age = int(Age)\n",
        "                break\n",
        "                \n",
        "            print(\"\\n\\nPlease enter a number from 0 to 99.\\n\\n\")\n",
        "\n",
        "\n",
        "        #Gathering user data for diabetes\n",
        "\n",
        "        while True:\n",
        "            diabetes = input('\\nDo you have diabetes? Y or N      ')\n",
        "            \n",
        "            #Text Sanitization\n",
        "            diabetes = diabetes.strip().capitalize()\n",
        "            \n",
        "            if diabetes == \"Y\" or diabetes == \"N\":\n",
        "                if diabetes == \"Y\":\n",
        "                    self.diabetes = 1\n",
        "                else:  \n",
        "                    self.diabetes = 0\n",
        "                break\n",
        "                \n",
        "            print(\"\\n\\nPlease enter 'Y' for YES or 'N' for NO to proceed.\\n\\n\")\n",
        "\n",
        "            \n",
        "        #Gathering user data for athsma\n",
        "\n",
        "        while True:\n",
        "            athsma = input('\\nDo you have athsma? Y or N      ')\n",
        "            \n",
        "            #Text Sanitization\n",
        "            athsma = athsma.strip().capitalize()\n",
        "            \n",
        "            if athsma == \"Y\" or athsma == \"N\":\n",
        "                if athsma == \"Y\":\n",
        "                    self.athsma = 1\n",
        "                else:  \n",
        "                    self.athsma = 0\n",
        "                break\n",
        "                \n",
        "            print(\"\\n\\nPlease enter 'Y' for YES or 'N' for NO to proceed.\\n\\n\")\n",
        "            \n",
        "            \n",
        "        #Gathering user data for hypertension\n",
        "\n",
        "        while True:\n",
        "            hypertension = input('\\nDo you have hypertension? Y or N      ')\n",
        "            \n",
        "            #Text Sanitization\n",
        "            hypertension = hypertension.strip().capitalize()\n",
        "            \n",
        "            if hypertension == \"Y\" or hypertension == \"N\":\n",
        "                if hypertension == \"Y\":\n",
        "                    self.hypertension = 1\n",
        "                else:  \n",
        "                    self.hypertension = 0\n",
        "                break\n",
        "                \n",
        "            print(\"\\n\\nPlease enter 'Y' for YES or 'N' for NO to proceed.\\n\\n\")\n",
        "\n",
        "\n",
        "            \n",
        "        #Gathering user data for tobacco\n",
        "\n",
        "        while True:\n",
        "            tobacco = input('\\nDo you have a smoking habit? Y or N      ')\n",
        "            \n",
        "            #Text Sanitization\n",
        "            tobacco = tobacco.strip().capitalize()\n",
        "            \n",
        "            if tobacco == \"Y\" or tobacco == \"N\":\n",
        "                if tobacco == \"Y\":\n",
        "                    self.tobacco = 1\n",
        "                else:  \n",
        "                    self.tobacco = 0\n",
        "                break\n",
        "                \n",
        "            print(\"\\n\\nPlease enter 'Y' for YES or 'N' for NO to proceed.\\n\\n\")\n",
        "\n",
        "            \n",
        "            \n",
        "        #Gathering user data for covid19 contact\n",
        "\n",
        "        while True:\n",
        "            contact = input('\\nHave you had contact with another person with COVID-19? Y or N      ')\n",
        "            \n",
        "            #Text Sanitization\n",
        "            contact = contact.strip().capitalize()\n",
        "            \n",
        "            if contact == \"Y\" or contact == \"N\":\n",
        "                if contact == \"Y\":\n",
        "                    self.contact = 1\n",
        "                else:  \n",
        "                    self.contact = 0\n",
        "                break\n",
        "                \n",
        "            print(\"\\n\\nPlease enter 'Y' for YES or 'N' for NO to proceed.\\n\\n\")\n",
        "\n",
        "            \n",
        "            \n",
        "        #Gathering user data for Obesity\n",
        "\n",
        "        while True:\n",
        "            obese = input('\\nAre you obese? Y or N      ')\n",
        "            \n",
        "            #Text Sanitization\n",
        "            obese = obese.strip().capitalize()\n",
        "            \n",
        "            if obese == \"Y\" or obese == \"N\":\n",
        "                if obese == \"Y\":\n",
        "                    self.obese = 1\n",
        "                else:  \n",
        "                    self.obese = 0\n",
        "                break\n",
        "                \n",
        "            print(\"\\n\\nPlease enter 'Y' for YES or 'N' for NO to proceed.\\n\\n\")\n",
        "\n",
        "\n",
        "        #Gathering user data for Pneumonia\n",
        "\n",
        "        while True:\n",
        "            pneumonia = input('\\nDo you have pneumonia? Y or N      ')\n",
        "            \n",
        "            #Text Sanitization\n",
        "            pneumonia = pneumonia.strip().capitalize()\n",
        "            \n",
        "            if pneumonia == \"Y\" or pneumonia == \"N\":\n",
        "                if pneumonia == \"Y\":\n",
        "                    self.pneumonia = 1\n",
        "                else:  \n",
        "                    self.pneumonia = 0\n",
        "                break\n",
        "                \n",
        "            print(\"\\n\\nPlease enter 'Y' for YES or 'N' for NO to proceed.\\n\\n\")\n",
        "\n",
        "\n",
        "\n",
        "        #Gathering user data for copd\n",
        "\n",
        "        while True:\n",
        "            copd = input('\\nDo you have chronic obstructive pulmonary disease(COPD)? Y or N      ')\n",
        "            \n",
        "            #Text Sanitization\n",
        "            copd = copd.strip().capitalize()\n",
        "            \n",
        "            if copd == \"Y\" or copd == \"N\":\n",
        "                if copd == \"Y\":\n",
        "                    self.copd = 1\n",
        "                else:  \n",
        "                    self.copd = 0\n",
        "                break\n",
        "                \n",
        "            print(\"\\n\\nPlease enter 'Y' for YES or 'N' for NO to proceed.\\n\\n\")\n",
        "\n",
        "\n",
        "        #Gathering user data for cardiovascular disease\n",
        "\n",
        "        while True:\n",
        "            cardiovascular = input('\\nDo you have cardiovascular disease? Y or N      ')\n",
        "            \n",
        "            #Text Sanitization\n",
        "            cardiovascular = cardiovascular.strip().capitalize()\n",
        "            \n",
        "            if cardiovascular == \"Y\" or cardiovascular == \"N\":\n",
        "                if cardiovascular == \"Y\":\n",
        "                    self.cardiovascular = 1\n",
        "                else:  \n",
        "                    self.cardiovascular = 0\n",
        "                break\n",
        "                \n",
        "            print(\"\\n\\nPlease enter 'Y' for YES or 'N' for NO to proceed.\\n\\n\")\n",
        "\n",
        "\n",
        "        #Gathering user data for chronic kidney failure\n",
        "\n",
        "        while True:\n",
        "            renal_chronic = input('\\nDo you have chronic kidney failure? Y or N      ')\n",
        "            \n",
        "            #Text Sanitization\n",
        "            renal_chronic = renal_chronic.strip().capitalize()\n",
        "            \n",
        "            if renal_chronic == \"Y\" or renal_chronic == \"N\":\n",
        "                if renal_chronic == \"Y\":\n",
        "                    self.renal_chronic = 1\n",
        "                else:  \n",
        "                    self.renal_chronic = 0\n",
        "                break\n",
        "                \n",
        "            print(\"\\n\\nPlease enter 'Y' for YES or 'N' for NO to proceed.\\n\\n\")    \n",
        "\n",
        "        #Gathering user data for inpatient/outpatient\n",
        "\n",
        "        while True:\n",
        "            patient_type = input('\\nAre you inpatient or outpatient? I or O      ')\n",
        "            \n",
        "            #Text Sanitization\n",
        "            patient_type = patient_type.strip().capitalize()\n",
        "            \n",
        "            if patient_type == \"I\" or patient_type == \"O\":\n",
        "                if patient_type == \"I\":\n",
        "                    self.patient_type = 1\n",
        "                else:  \n",
        "                    self.patient_type = 0\n",
        "                break\n",
        "                \n",
        "            print(\"\\n\\nPlease enter 'I' for INPATIENT or 'O' for OUTPATIENT to proceed.\\n\\n\")\n",
        "\n",
        "\n",
        "        #Gathering user data for immunosuppression\n",
        "\n",
        "        while True:\n",
        "            inmusupr = input('\\nDo you have immunosuppression? Y or N      ')\n",
        "            \n",
        "            #Text Sanitization\n",
        "            inmusupr = inmusupr.strip().capitalize()\n",
        "            \n",
        "            if inmusupr == \"Y\" or inmusupr == \"N\":\n",
        "                if inmusupr == \"Y\":\n",
        "                    self.inmusupr = 1\n",
        "                else:  \n",
        "                    self.inmusupr = 0\n",
        "                break\n",
        "                \n",
        "            print(\"\\n\\nPlease enter 'Y' for YES or 'N' for NO to proceed.\\n\\n\")\n",
        "\n",
        "            \n",
        "        #Gathering user data for Other Diseases\n",
        "\n",
        "        while True:\n",
        "            other_disease = input('\\nDo you have another disease not mentioned here? Y or N      ')\n",
        "            \n",
        "            #Text Sanitization\n",
        "            other_disease = other_disease.strip().capitalize()\n",
        "            \n",
        "            if other_disease == \"Y\" or other_disease == \"N\":\n",
        "                if other_disease == \"Y\":\n",
        "                    self.other_disease = 1\n",
        "                else:  \n",
        "                    self.other_disease = 0\n",
        "                break\n",
        "                \n",
        "            print(\"\\n\\nPlease enter 'Y' for YES or 'N' for NO to proceed.\\n\\n\")\n",
        "\n",
        "            \n",
        "\n",
        "        #compiling user data into a dictionary\n",
        "\n",
        "        User_data = {\n",
        "            \"sex\" : [float(self.Sex)],\n",
        "            \"patient_type\" : [float(self.patient_type)],\n",
        "            \"pneumonia\" : [float(self.pneumonia)],\n",
        "            \"age\" : [self.Age],\n",
        "            \"diabetes\" : [float(self.diabetes)],\n",
        "            \"copd\" : [float(self.copd)],\n",
        "            \"asthma\" : [float(self.athsma)],\n",
        "            \"inmsupr\" : [float(self.inmusupr)],\n",
        "            \"hypertension\" : [float(self.hypertension)],\n",
        "            \"other_disease\" : [float(self.other_disease)],\n",
        "            \"cardiovascular\" : [float(self.cardiovascular)],\n",
        "            \"obesity\" : [float(self.obese)],\n",
        "            \"renal_chronic\" : [float(self.renal_chronic)],\n",
        "            \"tobacco\" : [float(self.tobacco)],\n",
        "            \"contact_other_covid\" : [float(self.contact)],\n",
        "            \"covid_res\" : [1.0]\n",
        "        }\n",
        "\n",
        "        User_data = pd.DataFrame(User_data)\n",
        "\n",
        "        User_list = list(bal_rf.predict_proba(User_data))\n",
        "\n",
        "        print(\"\\n\\n\\nHere are your results...\\n\\nAfter loading YOUR data into our model, we predict you have a \",round(User_list[0][0], 2)*100, \"% percent chance of survival if hospitalized for COVID-19\\n\\n\\n\", sep = \"\")\n",
        "\n",
        "        self.User_data = User_data\n",
        "        self.predicted_survival = round(User_list[0][0], 2)*100\n",
        "\n",
        "    def __str__(self):\n",
        "        return print(\"This users data is:\",self.user_data,\"\\nPredicted Survival rate is\",self.predicted_survival)"
      ],
      "execution_count": 7,
      "outputs": []
    },
    {
      "cell_type": "markdown",
      "metadata": {
        "id": "h-SAOzcxSQDA"
      },
      "source": [
        "Running the line of code below will prompt user input and return the user's survival rate."
      ]
    },
    {
      "cell_type": "code",
      "metadata": {
        "colab": {
          "base_uri": "https://localhost:8080/"
        },
        "id": "VD-14Kf5SPGb",
        "outputId": "9d21473c-e017-4883-c463-f31b8df22211"
      },
      "source": [
        "User1 = Predict_user()"
      ],
      "execution_count": 8,
      "outputs": [
        {
          "output_type": "stream",
          "name": "stdout",
          "text": [
            "\n",
            "\n",
            "\n",
            "Hi! Please answer these questions to get a personalized probability of survival if hospitalized for COVID-19.\n",
            "\n",
            "\n",
            "\n",
            "What is your sex? M or F F\n",
            "\n",
            "What is your age? Please enter a number:      77\n",
            "\n",
            "Do you have diabetes? Y or N      Y\n",
            "\n",
            "Do you have athsma? Y or N      Y\n",
            "\n",
            "Do you have hypertension? Y or N      \n",
            "\n",
            "\n",
            "Please enter 'Y' for YES or 'N' for NO to proceed.\n",
            "\n",
            "\n",
            "\n",
            "Do you have hypertension? Y or N      Y\n",
            "\n",
            "Do you have a smoking habit? Y or N      Y\n",
            "\n",
            "Have you had contact with another person with COVID-19? Y or N      Y\n",
            "\n",
            "Are you obese? Y or N      N\n",
            "\n",
            "Do you have pneumonia? Y or N      Y\n",
            "\n",
            "Do you have chronic obstructive pulmonary disease(COPD)? Y or N      N\n",
            "\n",
            "Do you have cardiovascular disease? Y or N      N\n",
            "\n",
            "Do you have chronic kidney failure? Y or N      Yn\n",
            "\n",
            "\n",
            "Please enter 'Y' for YES or 'N' for NO to proceed.\n",
            "\n",
            "\n",
            "\n",
            "Do you have chronic kidney failure? Y or N      Y\n",
            "\n",
            "Are you inpatient or outpatient? I or O      I\n",
            "\n",
            "Do you have immunosuppression? Y or N      N\n",
            "\n",
            "Do you have another disease not mentioned here? Y or N      Y\n",
            "\n",
            "\n",
            "\n",
            "Here are your results...\n",
            "\n",
            "After loading YOUR data into our model, we predict you have a 30.0% percent chance of survival if hospitalized for COVID-19\n",
            "\n",
            "\n",
            "\n"
          ]
        }
      ]
    },
    {
      "cell_type": "markdown",
      "metadata": {
        "id": "hFy0SksMOhNO"
      },
      "source": [
        "## Testing our user input section with Unit Tests\n",
        "In order to ensure that there are no bugs or errors in our User object, we conducted several unit tests on the class. This was done by creating a test user with specific parameters, then testing aspects of the user to ensure that the data was properly stored."
      ]
    },
    {
      "cell_type": "code",
      "metadata": {
        "colab": {
          "base_uri": "https://localhost:8080/"
        },
        "id": "048WrsvsSmK_",
        "outputId": "f53fb30c-9687-4f51-9427-f3e2e67aab2a"
      },
      "source": [
        "# import the unit test package\n",
        "import unittest\n",
        "\n",
        "# create a user with following attributes when prompted: \n",
        "    # male, smokes, contact with other with covid, has copd, 29 y/o, outpatient\n",
        "    # tests below to ensure the values in our user input class work properly\n",
        "\n",
        "test_user = Predict_user()\n",
        "\n",
        "#create a set of unit tests to ensure each user input value is being saved properly\n",
        "\n",
        "class MyTest(unittest.TestCase):\n",
        "\n",
        "    def test_the_sex(self):\n",
        "        self.assertEqual(test_user.Sex, 1)\n",
        "\n",
        "    def test_the_diabetes(self):\n",
        "        self.assertEqual(test_user.diabetes, 0)\n",
        "\n",
        "    def test_the_athsma(self):\n",
        "        self.assertEqual(test_user.athsma, 0)\n",
        "\n",
        "    def test_the_hypertension(self):\n",
        "        self.assertEqual(test_user.hypertension, 0)\n",
        "\n",
        "    def test_the_obesity(self):\n",
        "        self.assertEqual(test_user.obese, 0)\n",
        "\n",
        "    def test_the_pneumonia(self):\n",
        "        self.assertEqual(test_user.pneumonia, 0)\n",
        "\n",
        "    def test_the_otherdisease(self):\n",
        "        self.assertEqual(test_user.other_disease, 0)\n",
        "\n",
        "    def test_the_cardiovascular(self):\n",
        "        self.assertEqual(test_user.cardiovascular, 0)\n",
        "\n",
        "    def test_the_renalchronic(self):\n",
        "        self.assertEqual(test_user.renal_chronic, 0)\n",
        "\n",
        "    def test_the_patient_type(self):\n",
        "        self.assertEqual(test_user.patient_type, 0)\n",
        "\n",
        "    def test_the_tobacco(self):\n",
        "        self.assertEqual(test_user.tobacco, 1)\n",
        "\n",
        "    def test_the_contact(self):\n",
        "        self.assertEqual(test_user.contact, 1)\n",
        "\n",
        "    def test_the_copd(self):\n",
        "        self.assertEqual(test_user.copd, 1)\n",
        "        \n",
        "    def test_the_age(self):\n",
        "        self.assertEqual(test_user.Age, 29)\n",
        "\n",
        "unittest.main(argv=[''], verbosity=2, exit=False)"
      ],
      "execution_count": 9,
      "outputs": [
        {
          "name": "stdout",
          "output_type": "stream",
          "text": [
            "\n",
            "\n",
            "\n",
            "Hi! Please answer these questions to get a personalized probability of survival if hospitalized for COVID-19.\n",
            "\n",
            "\n",
            "\n",
            "What is your sex? M or F M\n",
            "\n",
            "What is your age? Please enter a number:      29\n",
            "\n",
            "Do you have diabetes? Y or N      N\n",
            "\n",
            "Do you have athsma? Y or N      N\n",
            "\n",
            "Do you have hypertension? Y or N      N\n",
            "\n",
            "Do you have a smoking habit? Y or N      Y\n",
            "\n",
            "Have you had contact with another person with COVID-19? Y or N      Y\n",
            "\n",
            "Are you obese? Y or N      N\n",
            "\n",
            "Do you have pneumonia? Y or N      N\n",
            "\n",
            "Do you have chronic obstructive pulmonary disease(COPD)? Y or N      Y\n",
            "\n",
            "Do you have cardiovascular disease? Y or N      N\n",
            "\n",
            "Do you have chronic kidney failure? Y or N      N\n",
            "\n",
            "Are you inpatient or outpatient? I or O      O\n",
            "\n",
            "Do you have immunosuppression? Y or N      N\n",
            "\n",
            "Do you have another disease not mentioned here? Y or N      N\n"
          ]
        },
        {
          "output_type": "stream",
          "name": "stderr",
          "text": [
            "test_the_age (__main__.MyTest) ... ok\n",
            "test_the_athsma (__main__.MyTest) ... ok\n",
            "test_the_cardiovascular (__main__.MyTest) ... ok\n",
            "test_the_contact (__main__.MyTest) ... ok\n",
            "test_the_copd (__main__.MyTest) ... ok\n",
            "test_the_diabetes (__main__.MyTest) ... ok\n",
            "test_the_hypertension (__main__.MyTest) ... ok\n",
            "test_the_obesity (__main__.MyTest) ... ok\n",
            "test_the_otherdisease (__main__.MyTest) ... ok\n",
            "test_the_patient_type (__main__.MyTest) ... ok\n",
            "test_the_pneumonia (__main__.MyTest) ... ok\n",
            "test_the_renalchronic (__main__.MyTest) ... ok\n",
            "test_the_sex (__main__.MyTest) ... ok\n",
            "test_the_tobacco (__main__.MyTest) ... "
          ]
        },
        {
          "output_type": "stream",
          "name": "stdout",
          "text": [
            "\n",
            "\n",
            "\n",
            "Here are your results...\n",
            "\n",
            "After loading YOUR data into our model, we predict you have a 95.0% percent chance of survival if hospitalized for COVID-19\n",
            "\n",
            "\n",
            "\n"
          ]
        },
        {
          "output_type": "stream",
          "name": "stderr",
          "text": [
            "ok\n",
            "\n",
            "----------------------------------------------------------------------\n",
            "Ran 14 tests in 0.027s\n",
            "\n",
            "OK\n"
          ]
        },
        {
          "output_type": "execute_result",
          "data": {
            "text/plain": [
              "<unittest.main.TestProgram at 0x7f8c0fc355d0>"
            ]
          },
          "metadata": {},
          "execution_count": 9
        }
      ]
    },
    {
      "cell_type": "markdown",
      "source": [
        "Tests ran successfully!"
      ],
      "metadata": {
        "id": "wC2hOJiHHUqc"
      }
    }
  ]
}